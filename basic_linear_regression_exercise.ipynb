{
  "nbformat": 4,
  "nbformat_minor": 0,
  "metadata": {
    "colab": {
      "name": "basic_linear_regression_exercise.ipynb",
      "provenance": [],
      "collapsed_sections": [],
      "authorship_tag": "ABX9TyMG2DzrlMRFIE5YvtnAx5ZG",
      "include_colab_link": true
    },
    "kernelspec": {
      "name": "python3",
      "display_name": "Python 3"
    },
    "language_info": {
      "name": "python"
    }
  },
  "cells": [
    {
      "cell_type": "markdown",
      "metadata": {
        "id": "view-in-github",
        "colab_type": "text"
      },
      "source": [
        "<a href=\"https://colab.research.google.com/github/dl-colman/exercise-1/blob/main/basic_linear_regression_exercise.ipynb\" target=\"_parent\"><img src=\"https://colab.research.google.com/assets/colab-badge.svg\" alt=\"Open In Colab\"/></a>"
      ]
    },
    {
      "cell_type": "markdown",
      "metadata": {
        "id": "W-CnNdz_odYu"
      },
      "source": [
        "# Import libraries"
      ]
    },
    {
      "cell_type": "code",
      "metadata": {
        "id": "jxf0KCbtoJSA"
      },
      "source": [
        "import numpy as np \n",
        "import matplotlib.pyplot as plt "
      ],
      "execution_count": null,
      "outputs": []
    },
    {
      "cell_type": "markdown",
      "metadata": {
        "id": "y2YZNJhtoita"
      },
      "source": [
        "\n",
        "\n",
        "# Create Linear Regression model\n",
        "\n",
        "$$ y = bx + c $$<br>\n",
        "\n",
        " $$ MSE $$\n",
        "\n",
        "\n",
        "<center>\n",
        "<img src=\"https://miro.medium.com/max/856/1*r4ECQ8-gNCez1dTBN2aVZw.png\" >\n",
        "</center>\n",
        "<br>\n",
        "$$Gradient Descent$$\n",
        "<center>\n",
        "<img  src=\"https://media.geeksforgeeks.org/wp-content/uploads/20200611183120/1406-7.png\" width=\"350px\" >\n",
        "</center>"
      ]
    },
    {
      "cell_type": "code",
      "metadata": {
        "id": "Zvu59IfZok7-"
      },
      "source": [
        "class Linear_Regression:\n",
        "    def __init__(self, X, Y):\n",
        "        self.X = X\n",
        "        self.Y = Y\n",
        "        self.c = # __ Complete init value \n",
        "        self.b = # __ Complete init value\n",
        "       \n",
        "      \n",
        "    def update_coeffs(self, learning_rate):\n",
        "        Y_pred = self.predict()\n",
        "        Y = self.Y\n",
        "        m = len(Y)\n",
        "        self.c = # __ Complete gradient descent\n",
        "  \n",
        "        self.b = # __ Complete gradient descent\n",
        "  \n",
        "    def predict(self, X=[]):\n",
        "        Y_pred = np.array([])\n",
        "        if not X: X = self.X\n",
        "        b = self.b\n",
        "        c = self.c\n",
        "        \n",
        "        for x in X:\n",
        "            Y_pred = np.append(Y_pred, # __ Complete Linear function)\n",
        "  \n",
        "        return Y_pred\n",
        "      \n",
        "    def get_current_accuracy(self, Y_pred):\n",
        "        p, e = Y_pred, self.Y\n",
        "        n = len(Y_pred)\n",
        "        return 1-sum(\n",
        "            [\n",
        "                abs(p[i]-e[i])/e[i]\n",
        "                for i in range(n)\n",
        "                if e[i] != 0]\n",
        "        )/n\n",
        "  \n",
        "    def compute_cost(self, Y_pred):\n",
        "        m = len(self.Y)\n",
        "        J = # __ Complete MSE Loss function\n",
        "        return J\n",
        "  \n",
        "    def plot_best_fit(self, Y_pred, fig):\n",
        "                f = plt.figure(fig)\n",
        "                plt.scatter(self.X, self.Y, color='b')\n",
        "                plt.plot(self.X, Y_pred, color='g')\n",
        "                f.show()"
      ],
      "execution_count": null,
      "outputs": []
    },
    {
      "cell_type": "markdown",
      "metadata": {
        "id": "wr1D2ktnp8vV"
      },
      "source": [
        "# Features and Labels"
      ]
    },
    {
      "cell_type": "code",
      "metadata": {
        "id": "1M-xrjvzqBn0"
      },
      "source": [
        "X = np.array([i for i in range(11)])\n",
        "Y = np.array(# Complete Labels)\n",
        "\n",
        "regressor = Linear_Regression(X, Y)"
      ],
      "execution_count": null,
      "outputs": []
    },
    {
      "cell_type": "markdown",
      "metadata": {
        "id": "uX7I3EMJqLxJ"
      },
      "source": [
        "# Hyperparameters"
      ]
    },
    {
      "cell_type": "code",
      "metadata": {
        "id": "amNwYaahq9ha"
      },
      "source": [
        "iterations = 0\n",
        "epochs = # Complete epochs\n",
        "learning_rate = # Complete Learning rate\n",
        "costs = []"
      ],
      "execution_count": null,
      "outputs": []
    },
    {
      "cell_type": "code",
      "metadata": {
        "id": "hNiqle3xqMiP"
      },
      "source": [
        "# original best-fit line\n",
        "Y_pred = regressor.predict()\n",
        "regressor.plot_best_fit(Y_pred, 'Initial Best Fit Line')"
      ],
      "execution_count": null,
      "outputs": []
    },
    {
      "cell_type": "markdown",
      "metadata": {
        "id": "zrW6dQUPqR2z"
      },
      "source": [
        "# Train the model"
      ]
    },
    {
      "cell_type": "code",
      "metadata": {
        "id": "wcnjfow8qSY_"
      },
      "source": [
        "while 1:\n",
        "    Y_pred = regressor.predict()\n",
        "    cost = regressor.compute_cost(Y_pred)\n",
        "    costs.append(cost)\n",
        "    regressor.update_coeffs(learning_rate)\n",
        "\n",
        "    iterations += 1\n",
        "    if iterations % epochs == 0:\n",
        "        print(iterations, \"epochs elapsed\")\n",
        "        print(\"Current accuracy is :\", \n",
        "               regressor.get_current_accuracy(Y_pred))\n",
        "        break"
      ],
      "execution_count": null,
      "outputs": []
    },
    {
      "cell_type": "markdown",
      "metadata": {
        "id": "8WZtQ19dqbXo"
      },
      "source": [
        "# Best fit line"
      ]
    },
    {
      "cell_type": "code",
      "metadata": {
        "id": "MCEKkYutqdNK"
      },
      "source": [
        "#final best-fit line\n",
        "regressor.plot_best_fit(Y_pred, 'Final Best Fit Line')"
      ],
      "execution_count": null,
      "outputs": []
    },
    {
      "cell_type": "markdown",
      "metadata": {
        "id": "BwTXmJxtqgrx"
      },
      "source": [
        "#  See how the  loss functions perform during training"
      ]
    },
    {
      "cell_type": "code",
      "metadata": {
        "id": "FDoSb7mPqhGz"
      },
      "source": [
        "#plot to verify cost fuction decreases\n",
        "h = plt.figure('Verification')\n",
        "plt.plot(range(iterations), costs, color='b')\n",
        "h.show()"
      ],
      "execution_count": null,
      "outputs": []
    },
    {
      "cell_type": "markdown",
      "metadata": {
        "id": "gJd0zq_jqksX"
      },
      "source": [
        "# Test the model"
      ]
    },
    {
      "cell_type": "code",
      "metadata": {
        "id": "fkuS_Gq0qlPr"
      },
      "source": [
        "# if user wants to predict using the regressor:\n",
        "regressor.predict([i for i in range(1, 11)])"
      ],
      "execution_count": null,
      "outputs": []
    }
  ]
}