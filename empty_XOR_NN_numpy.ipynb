{
  "nbformat": 4,
  "nbformat_minor": 0,
  "metadata": {
    "colab": {
      "provenance": [],
      "include_colab_link": true
    },
    "kernelspec": {
      "name": "python3",
      "display_name": "Python 3"
    },
    "language_info": {
      "name": "python"
    }
  },
  "cells": [
    {
      "cell_type": "markdown",
      "metadata": {
        "id": "view-in-github",
        "colab_type": "text"
      },
      "source": [
        "<a href=\"https://colab.research.google.com/github/dl-colman/exercise-1/blob/main/empty_XOR_NN_numpy.ipynb\" target=\"_parent\"><img src=\"https://colab.research.google.com/assets/colab-badge.svg\" alt=\"Open In Colab\"/></a>"
      ]
    },
    {
      "cell_type": "markdown",
      "source": [
        "# XOR Exercise\n",
        "| x1      | x2 | Label |\n",
        "| ----------- | ----------- | ----------- |\n",
        "| 0      | 0       | 0       |\n",
        "| 0   | 1        |1         |\n",
        "| 1      | 0       | 1       |\n",
        "| 1   | 1        |0         |\n",
        "\n",
        "<br><br>\n",
        "This exercise was inspired by the following article:<br>[Neural Network Implementation for XOR Gate Using Numpy](https://medium.com/analytics-vidhya/neural-network-implementation-for-xor-gate-using-numpy-59eca77b54cc)"
      ],
      "metadata": {
        "id": "aFWDeRpiibEk"
      }
    },
    {
      "cell_type": "markdown",
      "source": [
        "## Import Libraries"
      ],
      "metadata": {
        "id": "sotsOXw5jrx9"
      }
    },
    {
      "cell_type": "code",
      "source": [
        "import numpy as np\n",
        "import matplotlib.pyplot as plt\n",
        "from sklearn.metrics import confusion_matrix, accuracy_score, ConfusionMatrixDisplay"
      ],
      "metadata": {
        "id": "STz9YXEiHTch"
      },
      "execution_count": null,
      "outputs": []
    },
    {
      "cell_type": "markdown",
      "source": [
        "## Create Dataset"
      ],
      "metadata": {
        "id": "eGcNHDVFjzmd"
      }
    },
    {
      "cell_type": "code",
      "source": [
        "X=np.vstack(([0,0],[0,1],[1,0],[1,1]))\n",
        "t=np.array([0,1,1,0]).reshape(-1,1)\n",
        "print(f'Train Features  : \\n{X}\\n\\nLabels: \\n{t}')"
      ],
      "metadata": {
        "id": "8nIoTV8dHXK2"
      },
      "execution_count": null,
      "outputs": []
    },
    {
      "cell_type": "markdown",
      "source": [
        "## Activation Function\n",
        "Sigmoid: \n",
        "\n",
        "<img src=\"https://miro.medium.com/max/884/1*h2mKSbkSqRmYi9OhHyWpKA@2x.png\" alt=\"Sigmoid\" width=\"250\" >\n",
        "\n",
        "Sigmoid derivative:\n",
        "\n",
        "<img src=\"https://miro.medium.com/max/1058/1*SLri0VBaH3IeD8KOMbA3kQ.png\" alt=\"Sigmoid derivative\" width=\"400\" >"
      ],
      "metadata": {
        "id": "SPBZGDOGj8-w"
      }
    },
    {
      "cell_type": "code",
      "source": [
        "def sigmoid(x):\n",
        "  return None"
      ],
      "metadata": {
        "id": "X6Qs4j4mHgFA"
      },
      "execution_count": null,
      "outputs": []
    },
    {
      "cell_type": "markdown",
      "source": [
        "## Loss Function\n",
        "\n",
        "<img src=\"https://miro.medium.com/max/1198/1*BtVajQNj29LkVySEWR_4ww.png\" alt=\"mean squared error\" width=\"500\" >\n"
      ],
      "metadata": {
        "id": "03ibzhUBkD_s"
      }
    },
    {
      "cell_type": "code",
      "source": [
        "def mean_squared_error(y, t):\n",
        "  \n",
        "  return None"
      ],
      "metadata": {
        "id": "IoZ6XBjHKxee"
      },
      "execution_count": null,
      "outputs": []
    },
    {
      "cell_type": "markdown",
      "source": [
        "## Hyper Parameters"
      ],
      "metadata": {
        "id": "q5jaS2WwkbVm"
      }
    },
    {
      "cell_type": "code",
      "source": [
        "alpha=0.01\n",
        "epochs = 3000\n",
        "loss_list, epochs_list=[],[]"
      ],
      "metadata": {
        "id": "esvR_zwjknww"
      },
      "execution_count": null,
      "outputs": []
    },
    {
      "cell_type": "markdown",
      "source": [
        "## Weights Initialization"
      ],
      "metadata": {
        "id": "wp0eycTokS1s"
      }
    },
    {
      "cell_type": "code",
      "source": [
        "W1=np.random.rand(2,16)\n",
        "b1 = np.zeros((1, 16))\n",
        "W2=np.random.rand(16,1)\n",
        "b2 = np.zeros((1, 1))\n",
        "print(W1.shape,'\\n',W2.shape)"
      ],
      "metadata": {
        "id": "4gYszYlHHaDl"
      },
      "execution_count": null,
      "outputs": []
    },
    {
      "cell_type": "markdown",
      "source": [
        "## Train NN\n",
        "\n",
        "<u>**Feed Forward Equations**</u>:\n",
        "<br><br>\n",
        "<img src=\"https://miro.medium.com/max/884/1*YB9_AfIT0uI1GmlYmMVYOw.png\" alt=\"Feed Forward Equations\" width=\"400\" >\n",
        "<br><br>\n",
        "<u>**Backpropagation Equations**</u>\n",
        "\n",
        "**W2**:\n",
        "\n",
        "<br>\n",
        "<img src=\"https://miro.medium.com/max/1184/1*rMeNhANWQ0KzuuK2rfJg4g.png\" alt=\"W2 - Backpropagation\" width=\"500\" >\n",
        "\n",
        "**W1**:\n",
        "\n",
        "<br>\n",
        "\n",
        "\n",
        "<img src=\"https://miro.medium.com/max/1400/1*i5QGDK5urJJLxVaJHDH3Fw.png\" alt=\"W1 - Backpropagation\" width=\"600\" >\n",
        "\n"
      ],
      "metadata": {
        "id": "oOF2TcpjlM8G"
      }
    },
    {
      "cell_type": "code",
      "execution_count": null,
      "metadata": {
        "id": "RoV3bhoEEorl"
      },
      "outputs": [],
      "source": [
        "for ep in range(epochs):\n",
        "\n",
        "  # TODO :  Forward propagation  \n",
        "  z=None\n",
        "  y=None\n",
        "\n",
        "  # TODO: Compute loss\n",
        "  loss=mean_squared_error(y, t)\n",
        "\n",
        "  # TODO: Back propagation\n",
        "  djdy = None\n",
        "  dydW2 = None\n",
        "  dW2 = None\n",
        "\n",
        "  db2 = djdy\n",
        "\n",
        "  dydz = None\n",
        "  dW1 = None\n",
        "\n",
        "  db1 = dydz\n",
        "\n",
        "  # TODO: Update weights\n",
        "  W2 = None\n",
        "  b2 = None\n",
        "  W1 = None\n",
        "  b1 = None\n",
        "\n",
        "\n",
        "  if not ep % 200:\n",
        "    calc_accuracy = 0\n",
        "    for i in range(y.shape[0]): \n",
        "      if (y[i][0] > 0.5) == t[i][0]: calc_accuracy += 1\n",
        "    calc_accuracy /= y.shape[0]    \n",
        "    print(f'epoch: {ep}, loss: {loss}, Accuracy: {calc_accuracy}')\n",
        "\n",
        "  loss_list.append(loss)\n",
        "  epochs_list.append(ep)"
      ]
    },
    {
      "cell_type": "markdown",
      "source": [
        "## Loss Visualization"
      ],
      "metadata": {
        "id": "Iv3gvvf9lVe3"
      }
    },
    {
      "cell_type": "code",
      "source": [
        "plt.title('Loss')\n",
        "plt.xlabel(\"Epochs\")\n",
        "plt.ylabel(\"loss\")\n",
        "\n",
        "plt.plot(epochs_list,loss_list)\n",
        "plt.show()"
      ],
      "metadata": {
        "id": "C4WJrV6BF7mf"
      },
      "execution_count": null,
      "outputs": []
    },
    {
      "cell_type": "markdown",
      "source": [
        "## Test model performance\n",
        "We will implement the \"Forward\" with the trained weights."
      ],
      "metadata": {
        "id": "A4vsep3ileaT"
      }
    },
    {
      "cell_type": "code",
      "source": [
        "X_test=np.vstack(([0,0],[0,1],[1,0],[1,1]))\n",
        "y_test=np.array([0,1,1,0])\n",
        "\n",
        "# TODO :  Forward propagation  \n",
        "z_test = None\n",
        "y_pred = None\n",
        "print(y_pred.T)"
      ],
      "metadata": {
        "id": "mZrLHbSkZCQR"
      },
      "execution_count": null,
      "outputs": []
    },
    {
      "cell_type": "markdown",
      "source": [
        "### Check your predictions against the test's labels"
      ],
      "metadata": {
        "id": "zvfdnSGdL5O6"
      }
    },
    {
      "cell_type": "code",
      "source": [
        "predictions = np.zeros((1,y_test.shape[0]))\n",
        "\n",
        "for i in range(y_test.shape[0]):\n",
        "  if (y_pred[i][0] > 0.5): \n",
        "    predictions[0][i] = 1\n",
        "print(f'Our predictions{predictions}\\nLabls:{y_test}')"
      ],
      "metadata": {
        "id": "vzqHq8iVaIcv"
      },
      "execution_count": null,
      "outputs": []
    },
    {
      "cell_type": "markdown",
      "source": [
        "### Show Classification Evaluation Metrics"
      ],
      "metadata": {
        "id": "3VUy9b-rK3s7"
      }
    },
    {
      "cell_type": "code",
      "source": [
        "cm = confusion_matrix(predictions.T, y_test.T)\n",
        "print('Accuracy Score : ', accuracy_score(predictions.T, y_test.T))\n",
        "print('Confusion Matrix : \\n', cm)"
      ],
      "metadata": {
        "id": "NppaTLrmeQFZ"
      },
      "execution_count": null,
      "outputs": []
    },
    {
      "cell_type": "code",
      "source": [
        "ConfusionMatrixDisplay(cm, display_labels=[\"1\", \"0\"]).plot()"
      ],
      "metadata": {
        "id": "wv7nMyI1Iau2"
      },
      "execution_count": null,
      "outputs": []
    }
  ]
}