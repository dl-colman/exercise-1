{
  "nbformat": 4,
  "nbformat_minor": 0,
  "metadata": {
    "colab": {
      "name": "numpy_pandas_matplotlib.ipynb",
      "provenance": [],
      "collapsed_sections": [],
      "mount_file_id": "1eXUQ3Nn99Z46Lxywwp3ih3sGfgbdYHZF",
      "authorship_tag": "ABX9TyMeDRynDV9mTBrVlAy0pwmP",
      "include_colab_link": true
    },
    "kernelspec": {
      "name": "python3",
      "display_name": "Python 3"
    },
    "language_info": {
      "name": "python"
    }
  },
  "cells": [
    {
      "cell_type": "markdown",
      "metadata": {
        "id": "view-in-github",
        "colab_type": "text"
      },
      "source": [
        "<a href=\"https://colab.research.google.com/github/dl-colman/exercise-1/blob/main/numpy_pandas_matplotlib.ipynb\" target=\"_parent\"><img src=\"https://colab.research.google.com/assets/colab-badge.svg\" alt=\"Open In Colab\"/></a>"
      ]
    },
    {
      "cell_type": "markdown",
      "metadata": {
        "id": "VDwmXLCJ81AZ"
      },
      "source": [
        "# NumPy\n",
        "NumPy is a library for the Python programming language, adding support for large, multi-dimensional arrays and matrices, along with a large collection of high-level mathematical functions to operate on these arrays.<br>\n",
        "\n",
        "<img src =\"data:image/png;base64,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\">\n",
        "\n"
      ]
    },
    {
      "cell_type": "markdown",
      "metadata": {
        "id": "-L1gDTKg9_cv"
      },
      "source": [
        "Importing the library"
      ]
    },
    {
      "cell_type": "code",
      "metadata": {
        "id": "Ozii0ZQG8tj2"
      },
      "source": [
        "import numpy as np"
      ],
      "execution_count": 1,
      "outputs": []
    },
    {
      "cell_type": "markdown",
      "metadata": {
        "id": "UpafdpxD_Y_2"
      },
      "source": [
        "1D Numpy array"
      ]
    },
    {
      "cell_type": "code",
      "metadata": {
        "colab": {
          "base_uri": "https://localhost:8080/"
        },
        "id": "YQK9dzCa-v57",
        "outputId": "56ba4c98-1e8c-45b7-edc2-5ffa95c411d1"
      },
      "source": [
        "a = np.array([1, 2, 3])\n",
        "print(a)"
      ],
      "execution_count": null,
      "outputs": [
        {
          "output_type": "stream",
          "name": "stdout",
          "text": [
            "[1 2 3]\n"
          ]
        }
      ]
    },
    {
      "cell_type": "markdown",
      "metadata": {
        "id": "3WOll_GG_gks"
      },
      "source": [
        "2D Numpy array"
      ]
    },
    {
      "cell_type": "code",
      "metadata": {
        "colab": {
          "base_uri": "https://localhost:8080/"
        },
        "id": "inly7510_NRC",
        "outputId": "0b5f3f89-f5bf-4719-d9bb-6ccdb122139f"
      },
      "source": [
        "a = np.array([[1, 2, 3], [4, 5, 6], [7, 8, 9]])\n",
        "print(a)"
      ],
      "execution_count": null,
      "outputs": [
        {
          "output_type": "stream",
          "name": "stdout",
          "text": [
            "[[1 2 3]\n",
            " [4 5 6]\n",
            " [7 8 9]]\n"
          ]
        }
      ]
    },
    {
      "cell_type": "markdown",
      "metadata": {
        "id": "MocdSrvV_zFD"
      },
      "source": [
        "Matrix of zeros"
      ]
    },
    {
      "cell_type": "code",
      "metadata": {
        "colab": {
          "base_uri": "https://localhost:8080/"
        },
        "id": "dQX0OwI1_-MC",
        "outputId": "e538fcb3-a9ea-4617-ce7c-c41a74a5fb14"
      },
      "source": [
        "a = np.zeros(9)\n",
        "print(a)"
      ],
      "execution_count": null,
      "outputs": [
        {
          "output_type": "stream",
          "name": "stdout",
          "text": [
            "[0. 0. 0. 0. 0. 0. 0. 0. 0.]\n"
          ]
        }
      ]
    },
    {
      "cell_type": "code",
      "metadata": {
        "colab": {
          "base_uri": "https://localhost:8080/"
        },
        "id": "GNIZeACPAW6X",
        "outputId": "99cbe06f-0cb7-4078-de2b-644244faf1ba"
      },
      "source": [
        "a.shape = (3, 3)\n",
        "print(a)"
      ],
      "execution_count": null,
      "outputs": [
        {
          "output_type": "stream",
          "name": "stdout",
          "text": [
            "[[0. 0. 0.]\n",
            " [0. 0. 0.]\n",
            " [0. 0. 0.]]\n"
          ]
        }
      ]
    },
    {
      "cell_type": "markdown",
      "metadata": {
        "id": "yDpawnsrAloH"
      },
      "source": [
        "Matrix of ones"
      ]
    },
    {
      "cell_type": "code",
      "metadata": {
        "colab": {
          "base_uri": "https://localhost:8080/"
        },
        "id": "eiEz_jVDAorG",
        "outputId": "01d865cb-d8be-425c-e1ef-49f349b80213"
      },
      "source": [
        "a = np.ones(3)\n",
        "a.shape = (3, 1)\n",
        "print(a)"
      ],
      "execution_count": null,
      "outputs": [
        {
          "output_type": "stream",
          "name": "stdout",
          "text": [
            "[[1.]\n",
            " [1.]\n",
            " [1.]]\n"
          ]
        }
      ]
    },
    {
      "cell_type": "markdown",
      "metadata": {
        "id": "VHByFoJzBMMg"
      },
      "source": [
        "Return evenly spaced numbers over a specified interval \n",
        "\n",
        "\n"
      ]
    },
    {
      "cell_type": "code",
      "metadata": {
        "colab": {
          "base_uri": "https://localhost:8080/"
        },
        "id": "IV3h64hJBKUU",
        "outputId": "9d076f57-6877-4354-b1f9-675effeb9910"
      },
      "source": [
        "a = np.linspace(0, 10, 5)\n",
        "print(a)"
      ],
      "execution_count": null,
      "outputs": [
        {
          "output_type": "stream",
          "name": "stdout",
          "text": [
            "[ 0.   2.5  5.   7.5 10. ]\n"
          ]
        }
      ]
    },
    {
      "cell_type": "markdown",
      "metadata": {
        "id": "4718RmVnBWSK"
      },
      "source": [
        "Random array"
      ]
    },
    {
      "cell_type": "code",
      "metadata": {
        "colab": {
          "base_uri": "https://localhost:8080/"
        },
        "id": "ug6l-ZvCBwTZ",
        "outputId": "8c94edac-2b50-44d8-9a01-29d700a61486"
      },
      "source": [
        "a = np.random.randint(10, size=5)\n",
        "print(a)"
      ],
      "execution_count": null,
      "outputs": [
        {
          "output_type": "stream",
          "name": "stdout",
          "text": [
            "[2 6 7 5 7]\n"
          ]
        }
      ]
    },
    {
      "cell_type": "markdown",
      "metadata": {
        "id": "Fp57rvk9CzYx"
      },
      "source": [
        "Actions between vectors and matrices"
      ]
    },
    {
      "cell_type": "code",
      "metadata": {
        "colab": {
          "base_uri": "https://localhost:8080/"
        },
        "id": "Pjjxmx14C0H7",
        "outputId": "fc852403-3d2e-4185-e0c5-ae52f6addd02"
      },
      "source": [
        "a = np.array([1, 2, 3])\n",
        "b = np.array([1, 2, 3])\n",
        "\n",
        "c = a * b\n",
        "print(c)"
      ],
      "execution_count": null,
      "outputs": [
        {
          "output_type": "stream",
          "name": "stdout",
          "text": [
            "[1 4 9]\n"
          ]
        }
      ]
    },
    {
      "cell_type": "code",
      "metadata": {
        "colab": {
          "base_uri": "https://localhost:8080/"
        },
        "id": "jzXKyr-ADB3V",
        "outputId": "516ac1fc-0909-4bcf-96b5-e603ad1e21da"
      },
      "source": [
        "c = a + b\n",
        "print(c)"
      ],
      "execution_count": null,
      "outputs": [
        {
          "output_type": "stream",
          "name": "stdout",
          "text": [
            "[2 4 6]\n"
          ]
        }
      ]
    },
    {
      "cell_type": "code",
      "metadata": {
        "colab": {
          "base_uri": "https://localhost:8080/"
        },
        "id": "dsza_V7CGXuT",
        "outputId": "e644fb46-43a9-48e4-99b7-cdca2702f523"
      },
      "source": [
        "a = np.array([4, 5, 6])\n",
        "a - 3"
      ],
      "execution_count": null,
      "outputs": [
        {
          "output_type": "execute_result",
          "data": {
            "text/plain": [
              "array([1, 2, 3])"
            ]
          },
          "metadata": {},
          "execution_count": 33
        }
      ]
    },
    {
      "cell_type": "code",
      "metadata": {
        "colab": {
          "base_uri": "https://localhost:8080/"
        },
        "id": "A4nHdaqtHATh",
        "outputId": "09df1867-6827-4aa6-dd7a-6829f9c1c32d"
      },
      "source": [
        "a + 1"
      ],
      "execution_count": null,
      "outputs": [
        {
          "output_type": "execute_result",
          "data": {
            "text/plain": [
              "array([5, 6, 7])"
            ]
          },
          "metadata": {},
          "execution_count": 34
        }
      ]
    },
    {
      "cell_type": "code",
      "metadata": {
        "colab": {
          "base_uri": "https://localhost:8080/"
        },
        "id": "7dYCbM4oHRHg",
        "outputId": "9f7a9999-8fdb-4bc2-950a-5e070f871a8b"
      },
      "source": [
        "a ** 2"
      ],
      "execution_count": null,
      "outputs": [
        {
          "output_type": "execute_result",
          "data": {
            "text/plain": [
              "array([16, 25, 36])"
            ]
          },
          "metadata": {},
          "execution_count": 35
        }
      ]
    },
    {
      "cell_type": "markdown",
      "metadata": {
        "id": "yvyEbkKYHeEx"
      },
      "source": [
        "Matrix multiplication"
      ]
    },
    {
      "cell_type": "code",
      "metadata": {
        "colab": {
          "base_uri": "https://localhost:8080/"
        },
        "id": "faewJV2SHjh6",
        "outputId": "6d5e9fe3-4be6-4075-f5ce-edf6af1a1a55"
      },
      "source": [
        "a = np.array([[1, 0],\n",
        "              [0, 1]])\n",
        "b = np.array([[4, 1],\n",
        "              [2, 2]])\n",
        "np.matmul(a, b)"
      ],
      "execution_count": null,
      "outputs": [
        {
          "output_type": "execute_result",
          "data": {
            "text/plain": [
              "array([[4, 1],\n",
              "       [2, 2]])"
            ]
          },
          "metadata": {},
          "execution_count": 36
        }
      ]
    },
    {
      "cell_type": "markdown",
      "metadata": {
        "id": "NaHSMz3rDKfb"
      },
      "source": [
        "Get number of dimentions"
      ]
    },
    {
      "cell_type": "code",
      "metadata": {
        "colab": {
          "base_uri": "https://localhost:8080/"
        },
        "id": "sLvRRCjkDNIK",
        "outputId": "ff979e9b-454e-43a5-f8eb-81d5088a23a4"
      },
      "source": [
        "d = c.ndim\n",
        "print(d)"
      ],
      "execution_count": null,
      "outputs": [
        {
          "output_type": "stream",
          "name": "stdout",
          "text": [
            "1\n"
          ]
        }
      ]
    },
    {
      "cell_type": "markdown",
      "metadata": {
        "id": "cPsgPuTNDWhv"
      },
      "source": [
        "Get a list with a size of the array that contain boolean values that return results on the condition"
      ]
    },
    {
      "cell_type": "code",
      "metadata": {
        "colab": {
          "base_uri": "https://localhost:8080/"
        },
        "id": "xMLwgdaKEPgd",
        "outputId": "074c4a3f-ecd5-418b-e828-545b2ef3a1ad"
      },
      "source": [
        "a = np.array([1, 2, 3, 4, 5])\n",
        "print(a > 2)"
      ],
      "execution_count": null,
      "outputs": [
        {
          "output_type": "stream",
          "name": "stdout",
          "text": [
            "[False False  True  True  True]\n"
          ]
        }
      ]
    },
    {
      "cell_type": "markdown",
      "metadata": {
        "id": "j7_P88KDEjHd"
      },
      "source": [
        "Get number of rows and column"
      ]
    },
    {
      "cell_type": "code",
      "metadata": {
        "colab": {
          "base_uri": "https://localhost:8080/"
        },
        "id": "Wk2rTJmVEpjh",
        "outputId": "9fae02c8-8ff3-4b78-95e2-e861950a5d63"
      },
      "source": [
        "a = np.array([[1, 2, 3], [4, 5, 6]])\n",
        "print(a.shape)"
      ],
      "execution_count": null,
      "outputs": [
        {
          "output_type": "stream",
          "name": "stdout",
          "text": [
            "(2, 3)\n"
          ]
        }
      ]
    },
    {
      "cell_type": "markdown",
      "metadata": {
        "id": "k8e1TYIpEze0"
      },
      "source": [
        "Init a new array with ( ( row, columns ), value)"
      ]
    },
    {
      "cell_type": "code",
      "metadata": {
        "colab": {
          "base_uri": "https://localhost:8080/"
        },
        "id": "oTCwM5iUFEPD",
        "outputId": "027a5528-961a-48cb-e06e-5883bd6ae850"
      },
      "source": [
        "a = np.full((3, 3), 100)\n",
        "print(a)"
      ],
      "execution_count": null,
      "outputs": [
        {
          "output_type": "stream",
          "name": "stdout",
          "text": [
            "[[100 100 100]\n",
            " [100 100 100]\n",
            " [100 100 100]]\n"
          ]
        }
      ]
    },
    {
      "cell_type": "markdown",
      "metadata": {
        "id": "sIVBZg_aFnIx"
      },
      "source": [
        "Init existing array with (array, value)"
      ]
    },
    {
      "cell_type": "code",
      "metadata": {
        "colab": {
          "base_uri": "https://localhost:8080/"
        },
        "id": "1TZZdfsMFkxa",
        "outputId": "6c151883-6bf3-45c2-8c0d-4e22df9ee796"
      },
      "source": [
        "b = np.full_like(a, 3)\n",
        "print(b)"
      ],
      "execution_count": null,
      "outputs": [
        {
          "output_type": "stream",
          "name": "stdout",
          "text": [
            "[[3 3 3]\n",
            " [3 3 3]\n",
            " [3 3 3]]\n"
          ]
        }
      ]
    },
    {
      "cell_type": "markdown",
      "metadata": {
        "id": "0nctgq05GEpI"
      },
      "source": [
        "Identity matrix with size of..."
      ]
    },
    {
      "cell_type": "code",
      "metadata": {
        "colab": {
          "base_uri": "https://localhost:8080/"
        },
        "id": "bkwwAt-yGKfc",
        "outputId": "5056b6e9-40be-4ab2-d682-a7d70e090635"
      },
      "source": [
        "a = np.identity(5)\n",
        "print(a)"
      ],
      "execution_count": null,
      "outputs": [
        {
          "output_type": "stream",
          "name": "stdout",
          "text": [
            "[[1. 0. 0. 0. 0.]\n",
            " [0. 1. 0. 0. 0.]\n",
            " [0. 0. 1. 0. 0.]\n",
            " [0. 0. 0. 1. 0.]\n",
            " [0. 0. 0. 0. 1.]]\n"
          ]
        }
      ]
    },
    {
      "cell_type": "markdown",
      "metadata": {
        "id": "0ysP9Pi2GUau"
      },
      "source": [
        "Find determinant of given matrix"
      ]
    },
    {
      "cell_type": "code",
      "metadata": {
        "colab": {
          "base_uri": "https://localhost:8080/"
        },
        "id": "fU5exFukIQLb",
        "outputId": "8ce23712-af69-4cef-931b-e5a2d800609e"
      },
      "source": [
        "a = np.array([[1, 2], [3, 4]])\n",
        "np.linalg.det(a)"
      ],
      "execution_count": null,
      "outputs": [
        {
          "output_type": "execute_result",
          "data": {
            "text/plain": [
              "-2.0000000000000004"
            ]
          },
          "metadata": {},
          "execution_count": 37
        }
      ]
    },
    {
      "cell_type": "markdown",
      "metadata": {
        "id": "bIA1B9FCZUN8"
      },
      "source": [
        "### Transpose Matrix"
      ]
    },
    {
      "cell_type": "code",
      "metadata": {
        "colab": {
          "base_uri": "https://localhost:8080/"
        },
        "id": "czHhaNRVZYM7",
        "outputId": "164ccc54-7404-47ef-96b5-e53b509281fc"
      },
      "source": [
        "m = np.array([[1, 2, 3, 4], \n",
        "            [5, 6, 7, 8], \n",
        "           [9, 10, 11, 12]])\n",
        "print(m.T)\n"
      ],
      "execution_count": null,
      "outputs": [
        {
          "output_type": "stream",
          "name": "stdout",
          "text": [
            "[[ 1  5  9]\n",
            " [ 2  6 10]\n",
            " [ 3  7 11]\n",
            " [ 4  8 12]]\n"
          ]
        }
      ]
    },
    {
      "cell_type": "markdown",
      "metadata": {
        "id": "UWALGhbkImA8"
      },
      "source": [
        "Minimum, Maximun and Sum of a numpy array"
      ]
    },
    {
      "cell_type": "code",
      "metadata": {
        "colab": {
          "base_uri": "https://localhost:8080/"
        },
        "id": "IlX2uvqKIvuc",
        "outputId": "ca7c86a8-ab87-45a8-a716-e87d927ac7cd"
      },
      "source": [
        "a = np.array([[1, 2, 3], [4, 5, 6]])\n",
        "np.min(a)"
      ],
      "execution_count": null,
      "outputs": [
        {
          "output_type": "execute_result",
          "data": {
            "text/plain": [
              "1"
            ]
          },
          "metadata": {},
          "execution_count": 38
        }
      ]
    },
    {
      "cell_type": "code",
      "metadata": {
        "colab": {
          "base_uri": "https://localhost:8080/"
        },
        "id": "en6HzQ_aI3wv",
        "outputId": "057ca504-1eed-4918-afd5-7714b7010313"
      },
      "source": [
        "np.max(a)"
      ],
      "execution_count": null,
      "outputs": [
        {
          "output_type": "execute_result",
          "data": {
            "text/plain": [
              "6"
            ]
          },
          "metadata": {},
          "execution_count": 39
        }
      ]
    },
    {
      "cell_type": "code",
      "metadata": {
        "colab": {
          "base_uri": "https://localhost:8080/"
        },
        "id": "z9W4w_SPI5_D",
        "outputId": "1067e5d5-35d7-4533-e075-4a0e22b43436"
      },
      "source": [
        "np.sum(a)"
      ],
      "execution_count": null,
      "outputs": [
        {
          "output_type": "execute_result",
          "data": {
            "text/plain": [
              "21"
            ]
          },
          "metadata": {},
          "execution_count": 40
        }
      ]
    },
    {
      "cell_type": "markdown",
      "metadata": {
        "id": "K0_3qjKce5Md"
      },
      "source": [
        "Exponential function for a single number"
      ]
    },
    {
      "cell_type": "code",
      "metadata": {
        "colab": {
          "base_uri": "https://localhost:8080/"
        },
        "id": "BL2THDZUfRTQ",
        "outputId": "11b7a8d2-1557-48c0-d87b-cdaf31553e00"
      },
      "source": [
        "np.exp(1)"
      ],
      "execution_count": 10,
      "outputs": [
        {
          "output_type": "execute_result",
          "data": {
            "text/plain": [
              "2.718281828459045"
            ]
          },
          "metadata": {},
          "execution_count": 10
        }
      ]
    },
    {
      "cell_type": "markdown",
      "metadata": {
        "id": "RIZALtGVfj1F"
      },
      "source": [
        "Exponential function for a vector"
      ]
    },
    {
      "cell_type": "code",
      "metadata": {
        "colab": {
          "base_uri": "https://localhost:8080/"
        },
        "id": "ckANYLyjfoWR",
        "outputId": "cefe1a1f-56a9-4ad6-c822-0267993e7600"
      },
      "source": [
        "np.exp([1,0,1,0])"
      ],
      "execution_count": 8,
      "outputs": [
        {
          "output_type": "execute_result",
          "data": {
            "text/plain": [
              "array([2.71828183, 1.        , 2.71828183, 1.        ])"
            ]
          },
          "metadata": {},
          "execution_count": 8
        }
      ]
    },
    {
      "cell_type": "markdown",
      "metadata": {
        "id": "ziC1H1YyJHNn"
      },
      "source": [
        "Take two arrays and combine then into one vertical stack"
      ]
    },
    {
      "cell_type": "code",
      "metadata": {
        "colab": {
          "base_uri": "https://localhost:8080/"
        },
        "id": "Dcrykwr3JWpC",
        "outputId": "93803877-f073-4171-d801-baeae4866d30"
      },
      "source": [
        "v1 = np.array([1, 2, 3, 4])\n",
        "v2 = np.array([5, 6, 7, 8])\n",
        "\n",
        "np.vstack([v1, v2])"
      ],
      "execution_count": null,
      "outputs": [
        {
          "output_type": "execute_result",
          "data": {
            "text/plain": [
              "array([[1, 2, 3, 4],\n",
              "       [5, 6, 7, 8]])"
            ]
          },
          "metadata": {},
          "execution_count": 43
        }
      ]
    },
    {
      "cell_type": "markdown",
      "metadata": {
        "id": "na2MOKQ0JWy3"
      },
      "source": [
        "Take two arrays and combine then into one horizontal stack"
      ]
    },
    {
      "cell_type": "code",
      "metadata": {
        "colab": {
          "base_uri": "https://localhost:8080/"
        },
        "id": "4yHSS8pbJZjs",
        "outputId": "2ad0b928-247a-405a-927d-4ac604dc3f9b"
      },
      "source": [
        "np.hstack([v1, v2])"
      ],
      "execution_count": null,
      "outputs": [
        {
          "output_type": "execute_result",
          "data": {
            "text/plain": [
              "array([1, 2, 3, 4, 5, 6, 7, 8])"
            ]
          },
          "metadata": {},
          "execution_count": 44
        }
      ]
    },
    {
      "cell_type": "markdown",
      "metadata": {
        "id": "MGzZf5I9N1Mb"
      },
      "source": [
        "### Dot product method - The operation can be used to calculate the weighted sum of a vector. \n",
        "<br><br>\n",
        "This is actually a <b>single neuron!</b>"
      ]
    },
    {
      "cell_type": "code",
      "metadata": {
        "colab": {
          "base_uri": "https://localhost:8080/"
        },
        "id": "FiUzsu4aJxU4",
        "outputId": "7f13d726-caa4-4f74-9685-26d84ad35b33"
      },
      "source": [
        "inputs = [1.0, 2.0, 3.0, 2.5]\n",
        "weights = [0.2, 0.8, -0.5, 1.0]\n",
        "\n",
        "bias = 2.0\n",
        "\n",
        "# (1 * 0.2) + (2 * 0.8) + (3 * -0.5) + (2.5 * 1.0) + 2\n",
        "output = np.dot(weights, inputs) + bias\n",
        "print(output)"
      ],
      "execution_count": null,
      "outputs": [
        {
          "output_type": "stream",
          "name": "stdout",
          "text": [
            "4.8\n"
          ]
        }
      ]
    },
    {
      "cell_type": "markdown",
      "metadata": {
        "id": "MR_DHf9iOrv2"
      },
      "source": [
        "In this example we have 3 set of weights\n",
        "<br><br>\n",
        "This is actually a <b>Layer</b> of 3 neurons!"
      ]
    },
    {
      "cell_type": "code",
      "metadata": {
        "colab": {
          "base_uri": "https://localhost:8080/"
        },
        "id": "P_vopTp_M4KO",
        "outputId": "2bb1791e-ee42-48db-d16f-3626d6753c1c"
      },
      "source": [
        "inputs = [1.0, 2.0, 3.0, 2.5]\n",
        "weights = [[0.2, 0.8, -0.5, 1.0], # bias = 2.0\n",
        "           [0.5, -0.91, 0.26, -0.5], # bias = 3.0\n",
        "           [-0.26, -0.27, 0.17, 0.87]] # bias = 0.5\n",
        "\n",
        "biases = [2.0, 3.0, 0.5]\n",
        "\n",
        "output = np.dot(weights, inputs) + biases\n",
        "print(output)"
      ],
      "execution_count": null,
      "outputs": [
        {
          "output_type": "stream",
          "name": "stdout",
          "text": [
            "[4.8   1.21  2.385]\n"
          ]
        }
      ]
    },
    {
      "cell_type": "markdown",
      "metadata": {
        "id": "9O5hbtSqcFoT"
      },
      "source": [
        "np.dot knows how to get a batch of inputs too!\n",
        "The problem is that we can get the famous <b>shape error!</b>."
      ]
    },
    {
      "cell_type": "code",
      "metadata": {
        "id": "Cp730CqXd25P"
      },
      "source": [
        "inputs = [[1, 2, 3, 2.5],\n",
        "          [2.0, 5.0, -1.0, 2.0],\n",
        "          [-1.5, 2.7, 3.3, -0.8]]\n",
        "\n",
        "# Note! np.dot reads the vectors vertically! For example (0.2, 0.5, -0.26) \n",
        "weights = [[0.2, 0.8, -0.5, 1.0], \n",
        "           [0.5, -0.91, 0.26, -0.5], \n",
        "           [-0.26, -0.27, 0.17, 0.87]] \n",
        "\n",
        "biases = [2.0, 3.0, 0.5]\n",
        "\n",
        "output = np.dot(inputs, weights) + biases\n",
        "# output = np.dot(inputs, np.array(weights).T) + biases\n",
        "print(output)"
      ],
      "execution_count": null,
      "outputs": []
    },
    {
      "cell_type": "markdown",
      "metadata": {
        "id": "uzmb4beHoA96"
      },
      "source": [
        "Lets try it with two layers"
      ]
    },
    {
      "cell_type": "code",
      "metadata": {
        "colab": {
          "base_uri": "https://localhost:8080/"
        },
        "id": "Yu2D5A8ca3dA",
        "outputId": "d2ec7dd1-0cb0-428b-8483-7f9baabd5cbc"
      },
      "source": [
        "np.random.seed(0)\n",
        "\n",
        "X = [[1, 2, 3, 2.5],\n",
        "     [2.0, 5.0, -1.0, 2.0],\n",
        "     [-1.5, 2.7, 3.3, -0.8]]\n",
        "\n",
        "\n",
        "class Layer_Dense:\n",
        "    def __init__(self, n_inputs, n_neurons):\n",
        "        self.weights = 0.10 * np.random.randn(n_inputs, n_neurons)\n",
        "        self.biases = np.zeros((1, n_neurons))\n",
        "    def forward(self, inputs):\n",
        "        self.output = # *** YOUR CODE HERE ***\n",
        "\n",
        "layer1 = Layer_Dense(4,5)\n",
        "layer2 = Layer_Dense(5,2)\n",
        "\n",
        "layer1.forward(X)\n",
        "#print(layer1.output)\n",
        "layer2.forward(layer1.output)\n",
        "print(layer2.output)"
      ],
      "execution_count": null,
      "outputs": [
        {
          "output_type": "stream",
          "name": "stdout",
          "text": [
            "[[ 0.148296   -0.08397602]\n",
            " [ 0.14100315 -0.01340469]\n",
            " [ 0.20124979 -0.07290616]]\n"
          ]
        }
      ]
    },
    {
      "cell_type": "markdown",
      "metadata": {
        "id": "sGm2qCeRKGf1"
      },
      "source": [
        "# Pandas\n",
        "pandas is a software library written for the Python programming language for data manipulation and analysis. In particular, it offers data structures and operations for manipulating numerical tables and time series. It is free software released under the three-clause BSD license.<br>\n",
        "\n",
        "<img src =\"data:image/png;base64,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\">"
      ]
    },
    {
      "cell_type": "markdown",
      "metadata": {
        "id": "nGjlK5yiKzQg"
      },
      "source": [
        "Importing the library"
      ]
    },
    {
      "cell_type": "code",
      "metadata": {
        "id": "NiXwV0fXKhmH"
      },
      "source": [
        "import pandas as pd"
      ],
      "execution_count": null,
      "outputs": []
    },
    {
      "cell_type": "markdown",
      "metadata": {
        "id": "IqpMJrj4MUof"
      },
      "source": [
        "Read CSV file"
      ]
    },
    {
      "cell_type": "code",
      "metadata": {
        "id": "XT6UObtBMKwL"
      },
      "source": [
        "df = pd.read_csv('/content/drive/MyDrive/pokemon_data.csv')"
      ],
      "execution_count": null,
      "outputs": []
    },
    {
      "cell_type": "markdown",
      "metadata": {
        "id": "rI2UFilrM3N7"
      },
      "source": [
        "Show the first five rows"
      ]
    },
    {
      "cell_type": "code",
      "metadata": {
        "colab": {
          "base_uri": "https://localhost:8080/",
          "height": 205
        },
        "id": "kr44nVJUNAV1",
        "outputId": "d84c8bdd-d35f-40b5-f42c-373725fd287b"
      },
      "source": [
        "df.head(5)"
      ],
      "execution_count": null,
      "outputs": [
        {
          "output_type": "execute_result",
          "data": {
            "text/html": [
              "<div>\n",
              "<style scoped>\n",
              "    .dataframe tbody tr th:only-of-type {\n",
              "        vertical-align: middle;\n",
              "    }\n",
              "\n",
              "    .dataframe tbody tr th {\n",
              "        vertical-align: top;\n",
              "    }\n",
              "\n",
              "    .dataframe thead th {\n",
              "        text-align: right;\n",
              "    }\n",
              "</style>\n",
              "<table border=\"1\" class=\"dataframe\">\n",
              "  <thead>\n",
              "    <tr style=\"text-align: right;\">\n",
              "      <th></th>\n",
              "      <th>#</th>\n",
              "      <th>Name</th>\n",
              "      <th>Type 1</th>\n",
              "      <th>Type 2</th>\n",
              "      <th>HP</th>\n",
              "      <th>Attack</th>\n",
              "      <th>Defense</th>\n",
              "      <th>Sp. Atk</th>\n",
              "      <th>Sp. Def</th>\n",
              "      <th>Speed</th>\n",
              "      <th>Generation</th>\n",
              "      <th>Legendary</th>\n",
              "    </tr>\n",
              "  </thead>\n",
              "  <tbody>\n",
              "    <tr>\n",
              "      <th>0</th>\n",
              "      <td>1</td>\n",
              "      <td>Bulbasaur</td>\n",
              "      <td>Grass</td>\n",
              "      <td>Poison</td>\n",
              "      <td>45</td>\n",
              "      <td>49</td>\n",
              "      <td>49</td>\n",
              "      <td>65</td>\n",
              "      <td>65</td>\n",
              "      <td>45</td>\n",
              "      <td>1</td>\n",
              "      <td>False</td>\n",
              "    </tr>\n",
              "    <tr>\n",
              "      <th>1</th>\n",
              "      <td>2</td>\n",
              "      <td>Ivysaur</td>\n",
              "      <td>Grass</td>\n",
              "      <td>Poison</td>\n",
              "      <td>60</td>\n",
              "      <td>62</td>\n",
              "      <td>63</td>\n",
              "      <td>80</td>\n",
              "      <td>80</td>\n",
              "      <td>60</td>\n",
              "      <td>1</td>\n",
              "      <td>False</td>\n",
              "    </tr>\n",
              "    <tr>\n",
              "      <th>2</th>\n",
              "      <td>3</td>\n",
              "      <td>Venusaur</td>\n",
              "      <td>Grass</td>\n",
              "      <td>Poison</td>\n",
              "      <td>80</td>\n",
              "      <td>82</td>\n",
              "      <td>83</td>\n",
              "      <td>100</td>\n",
              "      <td>100</td>\n",
              "      <td>80</td>\n",
              "      <td>1</td>\n",
              "      <td>False</td>\n",
              "    </tr>\n",
              "    <tr>\n",
              "      <th>3</th>\n",
              "      <td>3</td>\n",
              "      <td>VenusaurMega Venusaur</td>\n",
              "      <td>Grass</td>\n",
              "      <td>Poison</td>\n",
              "      <td>80</td>\n",
              "      <td>100</td>\n",
              "      <td>123</td>\n",
              "      <td>122</td>\n",
              "      <td>120</td>\n",
              "      <td>80</td>\n",
              "      <td>1</td>\n",
              "      <td>False</td>\n",
              "    </tr>\n",
              "    <tr>\n",
              "      <th>4</th>\n",
              "      <td>4</td>\n",
              "      <td>Charmander</td>\n",
              "      <td>Fire</td>\n",
              "      <td>NaN</td>\n",
              "      <td>39</td>\n",
              "      <td>52</td>\n",
              "      <td>43</td>\n",
              "      <td>60</td>\n",
              "      <td>50</td>\n",
              "      <td>65</td>\n",
              "      <td>1</td>\n",
              "      <td>False</td>\n",
              "    </tr>\n",
              "  </tbody>\n",
              "</table>\n",
              "</div>"
            ],
            "text/plain": [
              "   #                   Name Type 1  ... Speed  Generation  Legendary\n",
              "0  1              Bulbasaur  Grass  ...    45           1      False\n",
              "1  2                Ivysaur  Grass  ...    60           1      False\n",
              "2  3               Venusaur  Grass  ...    80           1      False\n",
              "3  3  VenusaurMega Venusaur  Grass  ...    80           1      False\n",
              "4  4             Charmander   Fire  ...    65           1      False\n",
              "\n",
              "[5 rows x 12 columns]"
            ]
          },
          "metadata": {},
          "execution_count": 51
        }
      ]
    },
    {
      "cell_type": "markdown",
      "metadata": {
        "id": "KKwcaspONKre"
      },
      "source": [
        "Show the last five rows"
      ]
    },
    {
      "cell_type": "code",
      "metadata": {
        "colab": {
          "base_uri": "https://localhost:8080/",
          "height": 205
        },
        "id": "6yYBBLcGNMLx",
        "outputId": "2f51f7d1-6e72-452c-d67e-eb3816c841f6"
      },
      "source": [
        "df.tail(5)"
      ],
      "execution_count": null,
      "outputs": [
        {
          "output_type": "execute_result",
          "data": {
            "text/html": [
              "<div>\n",
              "<style scoped>\n",
              "    .dataframe tbody tr th:only-of-type {\n",
              "        vertical-align: middle;\n",
              "    }\n",
              "\n",
              "    .dataframe tbody tr th {\n",
              "        vertical-align: top;\n",
              "    }\n",
              "\n",
              "    .dataframe thead th {\n",
              "        text-align: right;\n",
              "    }\n",
              "</style>\n",
              "<table border=\"1\" class=\"dataframe\">\n",
              "  <thead>\n",
              "    <tr style=\"text-align: right;\">\n",
              "      <th></th>\n",
              "      <th>#</th>\n",
              "      <th>Name</th>\n",
              "      <th>Type 1</th>\n",
              "      <th>Type 2</th>\n",
              "      <th>HP</th>\n",
              "      <th>Attack</th>\n",
              "      <th>Defense</th>\n",
              "      <th>Sp. Atk</th>\n",
              "      <th>Sp. Def</th>\n",
              "      <th>Speed</th>\n",
              "      <th>Generation</th>\n",
              "      <th>Legendary</th>\n",
              "    </tr>\n",
              "  </thead>\n",
              "  <tbody>\n",
              "    <tr>\n",
              "      <th>795</th>\n",
              "      <td>719</td>\n",
              "      <td>Diancie</td>\n",
              "      <td>Rock</td>\n",
              "      <td>Fairy</td>\n",
              "      <td>50</td>\n",
              "      <td>100</td>\n",
              "      <td>150</td>\n",
              "      <td>100</td>\n",
              "      <td>150</td>\n",
              "      <td>50</td>\n",
              "      <td>6</td>\n",
              "      <td>True</td>\n",
              "    </tr>\n",
              "    <tr>\n",
              "      <th>796</th>\n",
              "      <td>719</td>\n",
              "      <td>DiancieMega Diancie</td>\n",
              "      <td>Rock</td>\n",
              "      <td>Fairy</td>\n",
              "      <td>50</td>\n",
              "      <td>160</td>\n",
              "      <td>110</td>\n",
              "      <td>160</td>\n",
              "      <td>110</td>\n",
              "      <td>110</td>\n",
              "      <td>6</td>\n",
              "      <td>True</td>\n",
              "    </tr>\n",
              "    <tr>\n",
              "      <th>797</th>\n",
              "      <td>720</td>\n",
              "      <td>HoopaHoopa Confined</td>\n",
              "      <td>Psychic</td>\n",
              "      <td>Ghost</td>\n",
              "      <td>80</td>\n",
              "      <td>110</td>\n",
              "      <td>60</td>\n",
              "      <td>150</td>\n",
              "      <td>130</td>\n",
              "      <td>70</td>\n",
              "      <td>6</td>\n",
              "      <td>True</td>\n",
              "    </tr>\n",
              "    <tr>\n",
              "      <th>798</th>\n",
              "      <td>720</td>\n",
              "      <td>HoopaHoopa Unbound</td>\n",
              "      <td>Psychic</td>\n",
              "      <td>Dark</td>\n",
              "      <td>80</td>\n",
              "      <td>160</td>\n",
              "      <td>60</td>\n",
              "      <td>170</td>\n",
              "      <td>130</td>\n",
              "      <td>80</td>\n",
              "      <td>6</td>\n",
              "      <td>True</td>\n",
              "    </tr>\n",
              "    <tr>\n",
              "      <th>799</th>\n",
              "      <td>721</td>\n",
              "      <td>Volcanion</td>\n",
              "      <td>Fire</td>\n",
              "      <td>Water</td>\n",
              "      <td>80</td>\n",
              "      <td>110</td>\n",
              "      <td>120</td>\n",
              "      <td>130</td>\n",
              "      <td>90</td>\n",
              "      <td>70</td>\n",
              "      <td>6</td>\n",
              "      <td>True</td>\n",
              "    </tr>\n",
              "  </tbody>\n",
              "</table>\n",
              "</div>"
            ],
            "text/plain": [
              "       #                 Name   Type 1  ... Speed  Generation  Legendary\n",
              "795  719              Diancie     Rock  ...    50           6       True\n",
              "796  719  DiancieMega Diancie     Rock  ...   110           6       True\n",
              "797  720  HoopaHoopa Confined  Psychic  ...    70           6       True\n",
              "798  720   HoopaHoopa Unbound  Psychic  ...    80           6       True\n",
              "799  721            Volcanion     Fire  ...    70           6       True\n",
              "\n",
              "[5 rows x 12 columns]"
            ]
          },
          "metadata": {},
          "execution_count": 52
        }
      ]
    },
    {
      "cell_type": "markdown",
      "metadata": {
        "id": "qFqt0y--NPbR"
      },
      "source": [
        "Show columns names in a list of strings"
      ]
    },
    {
      "cell_type": "code",
      "metadata": {
        "colab": {
          "base_uri": "https://localhost:8080/"
        },
        "id": "axJh_EcYNTfq",
        "outputId": "f5f137c5-96b3-445f-923d-cd6861f24810"
      },
      "source": [
        "df.columns"
      ],
      "execution_count": null,
      "outputs": [
        {
          "output_type": "execute_result",
          "data": {
            "text/plain": [
              "Index(['#', 'Name', 'Type 1', 'Type 2', 'HP', 'Attack', 'Defense', 'Sp. Atk',\n",
              "       'Sp. Def', 'Speed', 'Generation', 'Legendary'],\n",
              "      dtype='object')"
            ]
          },
          "metadata": {},
          "execution_count": 53
        }
      ]
    },
    {
      "cell_type": "markdown",
      "metadata": {
        "id": "IBKQ9U3MNoo6"
      },
      "source": [
        "Select single column by name"
      ]
    },
    {
      "cell_type": "code",
      "metadata": {
        "colab": {
          "base_uri": "https://localhost:8080/"
        },
        "id": "fvFpC08jNrjK",
        "outputId": "d13ac8e5-73b5-461c-c3f4-ff2d0e0387bc"
      },
      "source": [
        "df['Name']"
      ],
      "execution_count": null,
      "outputs": [
        {
          "output_type": "execute_result",
          "data": {
            "text/plain": [
              "0                  Bulbasaur\n",
              "1                    Ivysaur\n",
              "2                   Venusaur\n",
              "3      VenusaurMega Venusaur\n",
              "4                 Charmander\n",
              "               ...          \n",
              "795                  Diancie\n",
              "796      DiancieMega Diancie\n",
              "797      HoopaHoopa Confined\n",
              "798       HoopaHoopa Unbound\n",
              "799                Volcanion\n",
              "Name: Name, Length: 800, dtype: object"
            ]
          },
          "metadata": {},
          "execution_count": 54
        }
      ]
    },
    {
      "cell_type": "markdown",
      "metadata": {
        "id": "Yi7AG12LNvpa"
      },
      "source": [
        "Select the three first rows of single column"
      ]
    },
    {
      "cell_type": "code",
      "metadata": {
        "colab": {
          "base_uri": "https://localhost:8080/"
        },
        "id": "KuylF9cpN_kE",
        "outputId": "8a93cb22-888d-4582-f61c-58cd35ee235e"
      },
      "source": [
        "df['Name'][0:3]"
      ],
      "execution_count": null,
      "outputs": [
        {
          "output_type": "execute_result",
          "data": {
            "text/plain": [
              "0    Bulbasaur\n",
              "1      Ivysaur\n",
              "2     Venusaur\n",
              "Name: Name, dtype: object"
            ]
          },
          "metadata": {},
          "execution_count": 55
        }
      ]
    },
    {
      "cell_type": "markdown",
      "metadata": {
        "id": "ZYrUWM5sOCX2"
      },
      "source": [
        "Select the three first rows of few columns"
      ]
    },
    {
      "cell_type": "code",
      "metadata": {
        "colab": {
          "base_uri": "https://localhost:8080/",
          "height": 143
        },
        "id": "3aHtd4IMOIHu",
        "outputId": "ed542cb0-93ba-45f8-e0ea-52a37429c093"
      },
      "source": [
        "df[['Name', 'Type 1', 'HP']][0:3]"
      ],
      "execution_count": null,
      "outputs": [
        {
          "output_type": "execute_result",
          "data": {
            "text/html": [
              "<div>\n",
              "<style scoped>\n",
              "    .dataframe tbody tr th:only-of-type {\n",
              "        vertical-align: middle;\n",
              "    }\n",
              "\n",
              "    .dataframe tbody tr th {\n",
              "        vertical-align: top;\n",
              "    }\n",
              "\n",
              "    .dataframe thead th {\n",
              "        text-align: right;\n",
              "    }\n",
              "</style>\n",
              "<table border=\"1\" class=\"dataframe\">\n",
              "  <thead>\n",
              "    <tr style=\"text-align: right;\">\n",
              "      <th></th>\n",
              "      <th>Name</th>\n",
              "      <th>Type 1</th>\n",
              "      <th>HP</th>\n",
              "    </tr>\n",
              "  </thead>\n",
              "  <tbody>\n",
              "    <tr>\n",
              "      <th>0</th>\n",
              "      <td>Bulbasaur</td>\n",
              "      <td>Grass</td>\n",
              "      <td>45</td>\n",
              "    </tr>\n",
              "    <tr>\n",
              "      <th>1</th>\n",
              "      <td>Ivysaur</td>\n",
              "      <td>Grass</td>\n",
              "      <td>60</td>\n",
              "    </tr>\n",
              "    <tr>\n",
              "      <th>2</th>\n",
              "      <td>Venusaur</td>\n",
              "      <td>Grass</td>\n",
              "      <td>80</td>\n",
              "    </tr>\n",
              "  </tbody>\n",
              "</table>\n",
              "</div>"
            ],
            "text/plain": [
              "        Name Type 1  HP\n",
              "0  Bulbasaur  Grass  45\n",
              "1    Ivysaur  Grass  60\n",
              "2   Venusaur  Grass  80"
            ]
          },
          "metadata": {},
          "execution_count": 56
        }
      ]
    },
    {
      "cell_type": "markdown",
      "metadata": {
        "id": "6dw_aaOwOkXo"
      },
      "source": [
        "Select rows by index locations"
      ]
    },
    {
      "cell_type": "code",
      "metadata": {
        "colab": {
          "base_uri": "https://localhost:8080/",
          "height": 112
        },
        "id": "eXvrSkjTOpGp",
        "outputId": "bcca4c88-078a-49f0-b7c9-64c38073cd86"
      },
      "source": [
        "df.iloc[2:4]"
      ],
      "execution_count": null,
      "outputs": [
        {
          "output_type": "execute_result",
          "data": {
            "text/html": [
              "<div>\n",
              "<style scoped>\n",
              "    .dataframe tbody tr th:only-of-type {\n",
              "        vertical-align: middle;\n",
              "    }\n",
              "\n",
              "    .dataframe tbody tr th {\n",
              "        vertical-align: top;\n",
              "    }\n",
              "\n",
              "    .dataframe thead th {\n",
              "        text-align: right;\n",
              "    }\n",
              "</style>\n",
              "<table border=\"1\" class=\"dataframe\">\n",
              "  <thead>\n",
              "    <tr style=\"text-align: right;\">\n",
              "      <th></th>\n",
              "      <th>#</th>\n",
              "      <th>Name</th>\n",
              "      <th>Type 1</th>\n",
              "      <th>Type 2</th>\n",
              "      <th>HP</th>\n",
              "      <th>Attack</th>\n",
              "      <th>Defense</th>\n",
              "      <th>Sp. Atk</th>\n",
              "      <th>Sp. Def</th>\n",
              "      <th>Speed</th>\n",
              "      <th>Generation</th>\n",
              "      <th>Legendary</th>\n",
              "    </tr>\n",
              "  </thead>\n",
              "  <tbody>\n",
              "    <tr>\n",
              "      <th>2</th>\n",
              "      <td>3</td>\n",
              "      <td>Venusaur</td>\n",
              "      <td>Grass</td>\n",
              "      <td>Poison</td>\n",
              "      <td>80</td>\n",
              "      <td>82</td>\n",
              "      <td>83</td>\n",
              "      <td>100</td>\n",
              "      <td>100</td>\n",
              "      <td>80</td>\n",
              "      <td>1</td>\n",
              "      <td>False</td>\n",
              "    </tr>\n",
              "    <tr>\n",
              "      <th>3</th>\n",
              "      <td>3</td>\n",
              "      <td>VenusaurMega Venusaur</td>\n",
              "      <td>Grass</td>\n",
              "      <td>Poison</td>\n",
              "      <td>80</td>\n",
              "      <td>100</td>\n",
              "      <td>123</td>\n",
              "      <td>122</td>\n",
              "      <td>120</td>\n",
              "      <td>80</td>\n",
              "      <td>1</td>\n",
              "      <td>False</td>\n",
              "    </tr>\n",
              "  </tbody>\n",
              "</table>\n",
              "</div>"
            ],
            "text/plain": [
              "   #                   Name Type 1  ... Speed  Generation  Legendary\n",
              "2  3               Venusaur  Grass  ...    80           1      False\n",
              "3  3  VenusaurMega Venusaur  Grass  ...    80           1      False\n",
              "\n",
              "[2 rows x 12 columns]"
            ]
          },
          "metadata": {},
          "execution_count": 58
        }
      ]
    },
    {
      "cell_type": "markdown",
      "metadata": {
        "id": "lRUU4xDdO4iZ"
      },
      "source": [
        "Select single cell in the table by index location"
      ]
    },
    {
      "cell_type": "code",
      "metadata": {
        "colab": {
          "base_uri": "https://localhost:8080/"
        },
        "id": "hJTqNSzlPA9g",
        "outputId": "9a928b24-1d8d-4ffb-976c-5f934cdd8328"
      },
      "source": [
        "df.iloc[2, 4]"
      ],
      "execution_count": null,
      "outputs": [
        {
          "output_type": "execute_result",
          "data": {
            "text/plain": [
              "80"
            ]
          },
          "metadata": {},
          "execution_count": 59
        }
      ]
    },
    {
      "cell_type": "markdown",
      "metadata": {
        "id": "wM5RP79APOQT"
      },
      "source": [
        "Sort the the table"
      ]
    },
    {
      "cell_type": "code",
      "metadata": {
        "colab": {
          "base_uri": "https://localhost:8080/",
          "height": 414
        },
        "id": "hYFZltgiPCkV",
        "outputId": "5ec82b8e-3c32-4062-82cf-857ce0a3ca7f"
      },
      "source": [
        "df.sort_values(['Type 1', 'Speed'], ascending=True)"
      ],
      "execution_count": null,
      "outputs": [
        {
          "output_type": "execute_result",
          "data": {
            "text/html": [
              "<div>\n",
              "<style scoped>\n",
              "    .dataframe tbody tr th:only-of-type {\n",
              "        vertical-align: middle;\n",
              "    }\n",
              "\n",
              "    .dataframe tbody tr th {\n",
              "        vertical-align: top;\n",
              "    }\n",
              "\n",
              "    .dataframe thead th {\n",
              "        text-align: right;\n",
              "    }\n",
              "</style>\n",
              "<table border=\"1\" class=\"dataframe\">\n",
              "  <thead>\n",
              "    <tr style=\"text-align: right;\">\n",
              "      <th></th>\n",
              "      <th>#</th>\n",
              "      <th>Name</th>\n",
              "      <th>Type 1</th>\n",
              "      <th>Type 2</th>\n",
              "      <th>HP</th>\n",
              "      <th>Attack</th>\n",
              "      <th>Defense</th>\n",
              "      <th>Sp. Atk</th>\n",
              "      <th>Sp. Def</th>\n",
              "      <th>Speed</th>\n",
              "      <th>Generation</th>\n",
              "      <th>Legendary</th>\n",
              "    </tr>\n",
              "  </thead>\n",
              "  <tbody>\n",
              "    <tr>\n",
              "      <th>230</th>\n",
              "      <td>213</td>\n",
              "      <td>Shuckle</td>\n",
              "      <td>Bug</td>\n",
              "      <td>Rock</td>\n",
              "      <td>20</td>\n",
              "      <td>10</td>\n",
              "      <td>230</td>\n",
              "      <td>10</td>\n",
              "      <td>230</td>\n",
              "      <td>5</td>\n",
              "      <td>2</td>\n",
              "      <td>False</td>\n",
              "    </tr>\n",
              "    <tr>\n",
              "      <th>219</th>\n",
              "      <td>204</td>\n",
              "      <td>Pineco</td>\n",
              "      <td>Bug</td>\n",
              "      <td>NaN</td>\n",
              "      <td>50</td>\n",
              "      <td>65</td>\n",
              "      <td>90</td>\n",
              "      <td>35</td>\n",
              "      <td>35</td>\n",
              "      <td>15</td>\n",
              "      <td>2</td>\n",
              "      <td>False</td>\n",
              "    </tr>\n",
              "    <tr>\n",
              "      <th>289</th>\n",
              "      <td>266</td>\n",
              "      <td>Silcoon</td>\n",
              "      <td>Bug</td>\n",
              "      <td>NaN</td>\n",
              "      <td>50</td>\n",
              "      <td>35</td>\n",
              "      <td>55</td>\n",
              "      <td>25</td>\n",
              "      <td>25</td>\n",
              "      <td>15</td>\n",
              "      <td>3</td>\n",
              "      <td>False</td>\n",
              "    </tr>\n",
              "    <tr>\n",
              "      <th>291</th>\n",
              "      <td>268</td>\n",
              "      <td>Cascoon</td>\n",
              "      <td>Bug</td>\n",
              "      <td>NaN</td>\n",
              "      <td>50</td>\n",
              "      <td>35</td>\n",
              "      <td>55</td>\n",
              "      <td>25</td>\n",
              "      <td>25</td>\n",
              "      <td>15</td>\n",
              "      <td>3</td>\n",
              "      <td>False</td>\n",
              "    </tr>\n",
              "    <tr>\n",
              "      <th>288</th>\n",
              "      <td>265</td>\n",
              "      <td>Wurmple</td>\n",
              "      <td>Bug</td>\n",
              "      <td>NaN</td>\n",
              "      <td>45</td>\n",
              "      <td>45</td>\n",
              "      <td>35</td>\n",
              "      <td>20</td>\n",
              "      <td>30</td>\n",
              "      <td>20</td>\n",
              "      <td>3</td>\n",
              "      <td>False</td>\n",
              "    </tr>\n",
              "    <tr>\n",
              "      <th>...</th>\n",
              "      <td>...</td>\n",
              "      <td>...</td>\n",
              "      <td>...</td>\n",
              "      <td>...</td>\n",
              "      <td>...</td>\n",
              "      <td>...</td>\n",
              "      <td>...</td>\n",
              "      <td>...</td>\n",
              "      <td>...</td>\n",
              "      <td>...</td>\n",
              "      <td>...</td>\n",
              "      <td>...</td>\n",
              "    </tr>\n",
              "    <tr>\n",
              "      <th>713</th>\n",
              "      <td>647</td>\n",
              "      <td>KeldeoOrdinary Forme</td>\n",
              "      <td>Water</td>\n",
              "      <td>Fighting</td>\n",
              "      <td>91</td>\n",
              "      <td>72</td>\n",
              "      <td>90</td>\n",
              "      <td>129</td>\n",
              "      <td>90</td>\n",
              "      <td>108</td>\n",
              "      <td>5</td>\n",
              "      <td>False</td>\n",
              "    </tr>\n",
              "    <tr>\n",
              "      <th>714</th>\n",
              "      <td>647</td>\n",
              "      <td>KeldeoResolute Forme</td>\n",
              "      <td>Water</td>\n",
              "      <td>Fighting</td>\n",
              "      <td>91</td>\n",
              "      <td>72</td>\n",
              "      <td>90</td>\n",
              "      <td>129</td>\n",
              "      <td>90</td>\n",
              "      <td>108</td>\n",
              "      <td>5</td>\n",
              "      <td>False</td>\n",
              "    </tr>\n",
              "    <tr>\n",
              "      <th>130</th>\n",
              "      <td>121</td>\n",
              "      <td>Starmie</td>\n",
              "      <td>Water</td>\n",
              "      <td>Psychic</td>\n",
              "      <td>60</td>\n",
              "      <td>75</td>\n",
              "      <td>85</td>\n",
              "      <td>100</td>\n",
              "      <td>85</td>\n",
              "      <td>115</td>\n",
              "      <td>1</td>\n",
              "      <td>False</td>\n",
              "    </tr>\n",
              "    <tr>\n",
              "      <th>466</th>\n",
              "      <td>419</td>\n",
              "      <td>Floatzel</td>\n",
              "      <td>Water</td>\n",
              "      <td>NaN</td>\n",
              "      <td>85</td>\n",
              "      <td>105</td>\n",
              "      <td>55</td>\n",
              "      <td>85</td>\n",
              "      <td>50</td>\n",
              "      <td>115</td>\n",
              "      <td>4</td>\n",
              "      <td>False</td>\n",
              "    </tr>\n",
              "    <tr>\n",
              "      <th>726</th>\n",
              "      <td>658</td>\n",
              "      <td>Greninja</td>\n",
              "      <td>Water</td>\n",
              "      <td>Dark</td>\n",
              "      <td>72</td>\n",
              "      <td>95</td>\n",
              "      <td>67</td>\n",
              "      <td>103</td>\n",
              "      <td>71</td>\n",
              "      <td>122</td>\n",
              "      <td>6</td>\n",
              "      <td>False</td>\n",
              "    </tr>\n",
              "  </tbody>\n",
              "</table>\n",
              "<p>800 rows × 12 columns</p>\n",
              "</div>"
            ],
            "text/plain": [
              "       #                  Name Type 1  ... Speed  Generation  Legendary\n",
              "230  213               Shuckle    Bug  ...     5           2      False\n",
              "219  204                Pineco    Bug  ...    15           2      False\n",
              "289  266               Silcoon    Bug  ...    15           3      False\n",
              "291  268               Cascoon    Bug  ...    15           3      False\n",
              "288  265               Wurmple    Bug  ...    20           3      False\n",
              "..   ...                   ...    ...  ...   ...         ...        ...\n",
              "713  647  KeldeoOrdinary Forme  Water  ...   108           5      False\n",
              "714  647  KeldeoResolute Forme  Water  ...   108           5      False\n",
              "130  121               Starmie  Water  ...   115           1      False\n",
              "466  419              Floatzel  Water  ...   115           4      False\n",
              "726  658              Greninja  Water  ...   122           6      False\n",
              "\n",
              "[800 rows x 12 columns]"
            ]
          },
          "metadata": {},
          "execution_count": 5
        }
      ]
    },
    {
      "cell_type": "markdown",
      "metadata": {
        "id": "pOgkcVKfP85N"
      },
      "source": [
        "Go iteratively across all the rows and run conditions on each row individually"
      ]
    },
    {
      "cell_type": "code",
      "metadata": {
        "colab": {
          "base_uri": "https://localhost:8080/"
        },
        "id": "gW_wqLc3QEQS",
        "outputId": "05066a96-3eb6-4075-a5ef-5b148dc63417"
      },
      "source": [
        "for index, row in df.iterrows():\n",
        "  if row['Name'].startswith('Pi') and row['Type 1'] == 'Electric':\n",
        "    print(index, row['Name'])"
      ],
      "execution_count": null,
      "outputs": [
        {
          "output_type": "stream",
          "name": "stdout",
          "text": [
            "30 Pikachu\n",
            "186 Pichu\n"
          ]
        }
      ]
    },
    {
      "cell_type": "markdown",
      "metadata": {
        "id": "9Gbzs_DdQqny"
      },
      "source": [
        "Using loc function to filter by parameters"
      ]
    },
    {
      "cell_type": "code",
      "metadata": {
        "colab": {
          "base_uri": "https://localhost:8080/",
          "height": 422
        },
        "id": "cX7CTbo9R_RJ",
        "outputId": "a95fe77f-14fc-4afa-fa13-8c33aa2e1fa2"
      },
      "source": [
        "df.loc[(df['Type 1'] == 'Fire') | (df['HP'] > 70)]"
      ],
      "execution_count": null,
      "outputs": [
        {
          "output_type": "execute_result",
          "data": {
            "text/html": [
              "<div>\n",
              "<style scoped>\n",
              "    .dataframe tbody tr th:only-of-type {\n",
              "        vertical-align: middle;\n",
              "    }\n",
              "\n",
              "    .dataframe tbody tr th {\n",
              "        vertical-align: top;\n",
              "    }\n",
              "\n",
              "    .dataframe thead th {\n",
              "        text-align: right;\n",
              "    }\n",
              "</style>\n",
              "<table border=\"1\" class=\"dataframe\">\n",
              "  <thead>\n",
              "    <tr style=\"text-align: right;\">\n",
              "      <th></th>\n",
              "      <th>#</th>\n",
              "      <th>Name</th>\n",
              "      <th>Type 1</th>\n",
              "      <th>Type 2</th>\n",
              "      <th>HP</th>\n",
              "      <th>Attack</th>\n",
              "      <th>Defense</th>\n",
              "      <th>Sp. Atk</th>\n",
              "      <th>Sp. Def</th>\n",
              "      <th>Speed</th>\n",
              "      <th>Generation</th>\n",
              "      <th>Legendary</th>\n",
              "    </tr>\n",
              "  </thead>\n",
              "  <tbody>\n",
              "    <tr>\n",
              "      <th>2</th>\n",
              "      <td>3</td>\n",
              "      <td>Venusaur</td>\n",
              "      <td>Grass</td>\n",
              "      <td>Poison</td>\n",
              "      <td>80</td>\n",
              "      <td>82</td>\n",
              "      <td>83</td>\n",
              "      <td>100</td>\n",
              "      <td>100</td>\n",
              "      <td>80</td>\n",
              "      <td>1</td>\n",
              "      <td>False</td>\n",
              "    </tr>\n",
              "    <tr>\n",
              "      <th>3</th>\n",
              "      <td>3</td>\n",
              "      <td>VenusaurMega Venusaur</td>\n",
              "      <td>Grass</td>\n",
              "      <td>Poison</td>\n",
              "      <td>80</td>\n",
              "      <td>100</td>\n",
              "      <td>123</td>\n",
              "      <td>122</td>\n",
              "      <td>120</td>\n",
              "      <td>80</td>\n",
              "      <td>1</td>\n",
              "      <td>False</td>\n",
              "    </tr>\n",
              "    <tr>\n",
              "      <th>4</th>\n",
              "      <td>4</td>\n",
              "      <td>Charmander</td>\n",
              "      <td>Fire</td>\n",
              "      <td>NaN</td>\n",
              "      <td>39</td>\n",
              "      <td>52</td>\n",
              "      <td>43</td>\n",
              "      <td>60</td>\n",
              "      <td>50</td>\n",
              "      <td>65</td>\n",
              "      <td>1</td>\n",
              "      <td>False</td>\n",
              "    </tr>\n",
              "    <tr>\n",
              "      <th>5</th>\n",
              "      <td>5</td>\n",
              "      <td>Charmeleon</td>\n",
              "      <td>Fire</td>\n",
              "      <td>NaN</td>\n",
              "      <td>58</td>\n",
              "      <td>64</td>\n",
              "      <td>58</td>\n",
              "      <td>80</td>\n",
              "      <td>65</td>\n",
              "      <td>80</td>\n",
              "      <td>1</td>\n",
              "      <td>False</td>\n",
              "    </tr>\n",
              "    <tr>\n",
              "      <th>6</th>\n",
              "      <td>6</td>\n",
              "      <td>Charizard</td>\n",
              "      <td>Fire</td>\n",
              "      <td>Flying</td>\n",
              "      <td>78</td>\n",
              "      <td>84</td>\n",
              "      <td>78</td>\n",
              "      <td>109</td>\n",
              "      <td>85</td>\n",
              "      <td>100</td>\n",
              "      <td>1</td>\n",
              "      <td>False</td>\n",
              "    </tr>\n",
              "    <tr>\n",
              "      <th>...</th>\n",
              "      <td>...</td>\n",
              "      <td>...</td>\n",
              "      <td>...</td>\n",
              "      <td>...</td>\n",
              "      <td>...</td>\n",
              "      <td>...</td>\n",
              "      <td>...</td>\n",
              "      <td>...</td>\n",
              "      <td>...</td>\n",
              "      <td>...</td>\n",
              "      <td>...</td>\n",
              "      <td>...</td>\n",
              "    </tr>\n",
              "    <tr>\n",
              "      <th>793</th>\n",
              "      <td>717</td>\n",
              "      <td>Yveltal</td>\n",
              "      <td>Dark</td>\n",
              "      <td>Flying</td>\n",
              "      <td>126</td>\n",
              "      <td>131</td>\n",
              "      <td>95</td>\n",
              "      <td>131</td>\n",
              "      <td>98</td>\n",
              "      <td>99</td>\n",
              "      <td>6</td>\n",
              "      <td>True</td>\n",
              "    </tr>\n",
              "    <tr>\n",
              "      <th>794</th>\n",
              "      <td>718</td>\n",
              "      <td>Zygarde50% Forme</td>\n",
              "      <td>Dragon</td>\n",
              "      <td>Ground</td>\n",
              "      <td>108</td>\n",
              "      <td>100</td>\n",
              "      <td>121</td>\n",
              "      <td>81</td>\n",
              "      <td>95</td>\n",
              "      <td>95</td>\n",
              "      <td>6</td>\n",
              "      <td>True</td>\n",
              "    </tr>\n",
              "    <tr>\n",
              "      <th>797</th>\n",
              "      <td>720</td>\n",
              "      <td>HoopaHoopa Confined</td>\n",
              "      <td>Psychic</td>\n",
              "      <td>Ghost</td>\n",
              "      <td>80</td>\n",
              "      <td>110</td>\n",
              "      <td>60</td>\n",
              "      <td>150</td>\n",
              "      <td>130</td>\n",
              "      <td>70</td>\n",
              "      <td>6</td>\n",
              "      <td>True</td>\n",
              "    </tr>\n",
              "    <tr>\n",
              "      <th>798</th>\n",
              "      <td>720</td>\n",
              "      <td>HoopaHoopa Unbound</td>\n",
              "      <td>Psychic</td>\n",
              "      <td>Dark</td>\n",
              "      <td>80</td>\n",
              "      <td>160</td>\n",
              "      <td>60</td>\n",
              "      <td>170</td>\n",
              "      <td>130</td>\n",
              "      <td>80</td>\n",
              "      <td>6</td>\n",
              "      <td>True</td>\n",
              "    </tr>\n",
              "    <tr>\n",
              "      <th>799</th>\n",
              "      <td>721</td>\n",
              "      <td>Volcanion</td>\n",
              "      <td>Fire</td>\n",
              "      <td>Water</td>\n",
              "      <td>80</td>\n",
              "      <td>110</td>\n",
              "      <td>120</td>\n",
              "      <td>130</td>\n",
              "      <td>90</td>\n",
              "      <td>70</td>\n",
              "      <td>6</td>\n",
              "      <td>True</td>\n",
              "    </tr>\n",
              "  </tbody>\n",
              "</table>\n",
              "<p>349 rows × 12 columns</p>\n",
              "</div>"
            ],
            "text/plain": [
              "       #                   Name   Type 1  ... Speed  Generation  Legendary\n",
              "2      3               Venusaur    Grass  ...    80           1      False\n",
              "3      3  VenusaurMega Venusaur    Grass  ...    80           1      False\n",
              "4      4             Charmander     Fire  ...    65           1      False\n",
              "5      5             Charmeleon     Fire  ...    80           1      False\n",
              "6      6              Charizard     Fire  ...   100           1      False\n",
              "..   ...                    ...      ...  ...   ...         ...        ...\n",
              "793  717                Yveltal     Dark  ...    99           6       True\n",
              "794  718       Zygarde50% Forme   Dragon  ...    95           6       True\n",
              "797  720    HoopaHoopa Confined  Psychic  ...    70           6       True\n",
              "798  720     HoopaHoopa Unbound  Psychic  ...    80           6       True\n",
              "799  721              Volcanion     Fire  ...    70           6       True\n",
              "\n",
              "[349 rows x 12 columns]"
            ]
          },
          "metadata": {},
          "execution_count": 62
        }
      ]
    },
    {
      "cell_type": "markdown",
      "metadata": {
        "id": "XQqHVx6wSpMi"
      },
      "source": [
        "Using GruopBy and mean function"
      ]
    },
    {
      "cell_type": "code",
      "metadata": {
        "colab": {
          "base_uri": "https://localhost:8080/",
          "height": 643
        },
        "id": "c7dmDGJnS2x9",
        "outputId": "ed49b212-cd7b-4a70-ebb0-f845686a4bce"
      },
      "source": [
        "df.groupby(['Type 1']).mean(numeric_only=True).sort_values('Attack', ascending=False)"
      ],
      "execution_count": null,
      "outputs": [
        {
          "output_type": "execute_result",
          "data": {
            "text/html": [
              "<div>\n",
              "<style scoped>\n",
              "    .dataframe tbody tr th:only-of-type {\n",
              "        vertical-align: middle;\n",
              "    }\n",
              "\n",
              "    .dataframe tbody tr th {\n",
              "        vertical-align: top;\n",
              "    }\n",
              "\n",
              "    .dataframe thead th {\n",
              "        text-align: right;\n",
              "    }\n",
              "</style>\n",
              "<table border=\"1\" class=\"dataframe\">\n",
              "  <thead>\n",
              "    <tr style=\"text-align: right;\">\n",
              "      <th></th>\n",
              "      <th>#</th>\n",
              "      <th>HP</th>\n",
              "      <th>Attack</th>\n",
              "      <th>Defense</th>\n",
              "      <th>Sp. Atk</th>\n",
              "      <th>Sp. Def</th>\n",
              "      <th>Speed</th>\n",
              "      <th>Generation</th>\n",
              "      <th>Legendary</th>\n",
              "    </tr>\n",
              "    <tr>\n",
              "      <th>Type 1</th>\n",
              "      <th></th>\n",
              "      <th></th>\n",
              "      <th></th>\n",
              "      <th></th>\n",
              "      <th></th>\n",
              "      <th></th>\n",
              "      <th></th>\n",
              "      <th></th>\n",
              "      <th></th>\n",
              "    </tr>\n",
              "  </thead>\n",
              "  <tbody>\n",
              "    <tr>\n",
              "      <th>Dragon</th>\n",
              "      <td>474.375000</td>\n",
              "      <td>83.312500</td>\n",
              "      <td>112.125000</td>\n",
              "      <td>86.375000</td>\n",
              "      <td>96.843750</td>\n",
              "      <td>88.843750</td>\n",
              "      <td>83.031250</td>\n",
              "      <td>3.875000</td>\n",
              "      <td>0.375000</td>\n",
              "    </tr>\n",
              "    <tr>\n",
              "      <th>Fighting</th>\n",
              "      <td>363.851852</td>\n",
              "      <td>69.851852</td>\n",
              "      <td>96.777778</td>\n",
              "      <td>65.925926</td>\n",
              "      <td>53.111111</td>\n",
              "      <td>64.703704</td>\n",
              "      <td>66.074074</td>\n",
              "      <td>3.370370</td>\n",
              "      <td>0.000000</td>\n",
              "    </tr>\n",
              "    <tr>\n",
              "      <th>Ground</th>\n",
              "      <td>356.281250</td>\n",
              "      <td>73.781250</td>\n",
              "      <td>95.750000</td>\n",
              "      <td>84.843750</td>\n",
              "      <td>56.468750</td>\n",
              "      <td>62.750000</td>\n",
              "      <td>63.906250</td>\n",
              "      <td>3.156250</td>\n",
              "      <td>0.125000</td>\n",
              "    </tr>\n",
              "    <tr>\n",
              "      <th>Rock</th>\n",
              "      <td>392.727273</td>\n",
              "      <td>65.363636</td>\n",
              "      <td>92.863636</td>\n",
              "      <td>100.795455</td>\n",
              "      <td>63.340909</td>\n",
              "      <td>75.477273</td>\n",
              "      <td>55.909091</td>\n",
              "      <td>3.454545</td>\n",
              "      <td>0.090909</td>\n",
              "    </tr>\n",
              "    <tr>\n",
              "      <th>Steel</th>\n",
              "      <td>442.851852</td>\n",
              "      <td>65.222222</td>\n",
              "      <td>92.703704</td>\n",
              "      <td>126.370370</td>\n",
              "      <td>67.518519</td>\n",
              "      <td>80.629630</td>\n",
              "      <td>55.259259</td>\n",
              "      <td>3.851852</td>\n",
              "      <td>0.148148</td>\n",
              "    </tr>\n",
              "    <tr>\n",
              "      <th>Dark</th>\n",
              "      <td>461.354839</td>\n",
              "      <td>66.806452</td>\n",
              "      <td>88.387097</td>\n",
              "      <td>70.225806</td>\n",
              "      <td>74.645161</td>\n",
              "      <td>69.516129</td>\n",
              "      <td>76.161290</td>\n",
              "      <td>4.032258</td>\n",
              "      <td>0.064516</td>\n",
              "    </tr>\n",
              "    <tr>\n",
              "      <th>Fire</th>\n",
              "      <td>327.403846</td>\n",
              "      <td>69.903846</td>\n",
              "      <td>84.769231</td>\n",
              "      <td>67.769231</td>\n",
              "      <td>88.980769</td>\n",
              "      <td>72.211538</td>\n",
              "      <td>74.442308</td>\n",
              "      <td>3.211538</td>\n",
              "      <td>0.096154</td>\n",
              "    </tr>\n",
              "    <tr>\n",
              "      <th>Flying</th>\n",
              "      <td>677.750000</td>\n",
              "      <td>70.750000</td>\n",
              "      <td>78.750000</td>\n",
              "      <td>66.250000</td>\n",
              "      <td>94.250000</td>\n",
              "      <td>72.500000</td>\n",
              "      <td>102.500000</td>\n",
              "      <td>5.500000</td>\n",
              "      <td>0.500000</td>\n",
              "    </tr>\n",
              "    <tr>\n",
              "      <th>Poison</th>\n",
              "      <td>251.785714</td>\n",
              "      <td>67.250000</td>\n",
              "      <td>74.678571</td>\n",
              "      <td>68.821429</td>\n",
              "      <td>60.428571</td>\n",
              "      <td>64.392857</td>\n",
              "      <td>63.571429</td>\n",
              "      <td>2.535714</td>\n",
              "      <td>0.000000</td>\n",
              "    </tr>\n",
              "    <tr>\n",
              "      <th>Water</th>\n",
              "      <td>303.089286</td>\n",
              "      <td>72.062500</td>\n",
              "      <td>74.151786</td>\n",
              "      <td>72.946429</td>\n",
              "      <td>74.812500</td>\n",
              "      <td>70.517857</td>\n",
              "      <td>65.964286</td>\n",
              "      <td>2.857143</td>\n",
              "      <td>0.035714</td>\n",
              "    </tr>\n",
              "    <tr>\n",
              "      <th>Ghost</th>\n",
              "      <td>486.500000</td>\n",
              "      <td>64.437500</td>\n",
              "      <td>73.781250</td>\n",
              "      <td>81.187500</td>\n",
              "      <td>79.343750</td>\n",
              "      <td>76.468750</td>\n",
              "      <td>64.343750</td>\n",
              "      <td>4.187500</td>\n",
              "      <td>0.062500</td>\n",
              "    </tr>\n",
              "    <tr>\n",
              "      <th>Normal</th>\n",
              "      <td>319.173469</td>\n",
              "      <td>77.275510</td>\n",
              "      <td>73.469388</td>\n",
              "      <td>59.846939</td>\n",
              "      <td>55.816327</td>\n",
              "      <td>63.724490</td>\n",
              "      <td>71.551020</td>\n",
              "      <td>3.051020</td>\n",
              "      <td>0.020408</td>\n",
              "    </tr>\n",
              "    <tr>\n",
              "      <th>Grass</th>\n",
              "      <td>344.871429</td>\n",
              "      <td>67.271429</td>\n",
              "      <td>73.214286</td>\n",
              "      <td>70.800000</td>\n",
              "      <td>77.500000</td>\n",
              "      <td>70.428571</td>\n",
              "      <td>61.928571</td>\n",
              "      <td>3.357143</td>\n",
              "      <td>0.042857</td>\n",
              "    </tr>\n",
              "    <tr>\n",
              "      <th>Ice</th>\n",
              "      <td>423.541667</td>\n",
              "      <td>72.000000</td>\n",
              "      <td>72.750000</td>\n",
              "      <td>71.416667</td>\n",
              "      <td>77.541667</td>\n",
              "      <td>76.291667</td>\n",
              "      <td>63.458333</td>\n",
              "      <td>3.541667</td>\n",
              "      <td>0.083333</td>\n",
              "    </tr>\n",
              "    <tr>\n",
              "      <th>Psychic</th>\n",
              "      <td>380.807018</td>\n",
              "      <td>70.631579</td>\n",
              "      <td>71.456140</td>\n",
              "      <td>67.684211</td>\n",
              "      <td>98.403509</td>\n",
              "      <td>86.280702</td>\n",
              "      <td>81.491228</td>\n",
              "      <td>3.385965</td>\n",
              "      <td>0.245614</td>\n",
              "    </tr>\n",
              "    <tr>\n",
              "      <th>Bug</th>\n",
              "      <td>334.492754</td>\n",
              "      <td>56.884058</td>\n",
              "      <td>70.971014</td>\n",
              "      <td>70.724638</td>\n",
              "      <td>53.869565</td>\n",
              "      <td>64.797101</td>\n",
              "      <td>61.681159</td>\n",
              "      <td>3.217391</td>\n",
              "      <td>0.000000</td>\n",
              "    </tr>\n",
              "    <tr>\n",
              "      <th>Electric</th>\n",
              "      <td>363.500000</td>\n",
              "      <td>59.795455</td>\n",
              "      <td>69.090909</td>\n",
              "      <td>66.295455</td>\n",
              "      <td>90.022727</td>\n",
              "      <td>73.704545</td>\n",
              "      <td>84.500000</td>\n",
              "      <td>3.272727</td>\n",
              "      <td>0.090909</td>\n",
              "    </tr>\n",
              "    <tr>\n",
              "      <th>Fairy</th>\n",
              "      <td>449.529412</td>\n",
              "      <td>74.117647</td>\n",
              "      <td>61.529412</td>\n",
              "      <td>65.705882</td>\n",
              "      <td>78.529412</td>\n",
              "      <td>84.705882</td>\n",
              "      <td>48.588235</td>\n",
              "      <td>4.117647</td>\n",
              "      <td>0.058824</td>\n",
              "    </tr>\n",
              "  </tbody>\n",
              "</table>\n",
              "</div>"
            ],
            "text/plain": [
              "                   #         HP      Attack  ...       Speed  Generation  Legendary\n",
              "Type 1                                       ...                                   \n",
              "Dragon    474.375000  83.312500  112.125000  ...   83.031250    3.875000   0.375000\n",
              "Fighting  363.851852  69.851852   96.777778  ...   66.074074    3.370370   0.000000\n",
              "Ground    356.281250  73.781250   95.750000  ...   63.906250    3.156250   0.125000\n",
              "Rock      392.727273  65.363636   92.863636  ...   55.909091    3.454545   0.090909\n",
              "Steel     442.851852  65.222222   92.703704  ...   55.259259    3.851852   0.148148\n",
              "Dark      461.354839  66.806452   88.387097  ...   76.161290    4.032258   0.064516\n",
              "Fire      327.403846  69.903846   84.769231  ...   74.442308    3.211538   0.096154\n",
              "Flying    677.750000  70.750000   78.750000  ...  102.500000    5.500000   0.500000\n",
              "Poison    251.785714  67.250000   74.678571  ...   63.571429    2.535714   0.000000\n",
              "Water     303.089286  72.062500   74.151786  ...   65.964286    2.857143   0.035714\n",
              "Ghost     486.500000  64.437500   73.781250  ...   64.343750    4.187500   0.062500\n",
              "Normal    319.173469  77.275510   73.469388  ...   71.551020    3.051020   0.020408\n",
              "Grass     344.871429  67.271429   73.214286  ...   61.928571    3.357143   0.042857\n",
              "Ice       423.541667  72.000000   72.750000  ...   63.458333    3.541667   0.083333\n",
              "Psychic   380.807018  70.631579   71.456140  ...   81.491228    3.385965   0.245614\n",
              "Bug       334.492754  56.884058   70.971014  ...   61.681159    3.217391   0.000000\n",
              "Electric  363.500000  59.795455   69.090909  ...   84.500000    3.272727   0.090909\n",
              "Fairy     449.529412  74.117647   61.529412  ...   48.588235    4.117647   0.058824\n",
              "\n",
              "[18 rows x 9 columns]"
            ]
          },
          "metadata": {},
          "execution_count": 63
        }
      ]
    },
    {
      "cell_type": "markdown",
      "metadata": {
        "id": "Fi-ruGpwTbTh"
      },
      "source": [
        "Count rows by column type"
      ]
    },
    {
      "cell_type": "code",
      "metadata": {
        "colab": {
          "base_uri": "https://localhost:8080/"
        },
        "id": "ohwTnkjeTgTE",
        "outputId": "2e64f965-c71b-4d9f-ce4e-627b2fc52f6a"
      },
      "source": [
        "df['count'] = 1\n",
        "df.groupby(['Type 1']).count()['count']"
      ],
      "execution_count": null,
      "outputs": [
        {
          "output_type": "execute_result",
          "data": {
            "text/plain": [
              "Type 1\n",
              "Bug          69\n",
              "Dark         31\n",
              "Dragon       32\n",
              "Electric     44\n",
              "Fairy        17\n",
              "Fighting     27\n",
              "Fire         52\n",
              "Flying        4\n",
              "Ghost        32\n",
              "Grass        70\n",
              "Ground       32\n",
              "Ice          24\n",
              "Normal       98\n",
              "Poison       28\n",
              "Psychic      57\n",
              "Rock         44\n",
              "Steel        27\n",
              "Water       112\n",
              "Name: count, dtype: int64"
            ]
          },
          "metadata": {},
          "execution_count": 65
        }
      ]
    },
    {
      "cell_type": "markdown",
      "metadata": {
        "id": "oba0az5lPVGj"
      },
      "source": [
        "# Matplotlib\n",
        "Matplotlib is a plotting library for the Python programming language and its numerical mathematics extension NumPy. It provides an object-oriented API for embedding plots into applications using general-purpose GUI toolkits like Tkinter, wxPython, Qt, or GTK.<br>\n",
        "<img width=\"335px\" src=\"https://interactivechaos.com/sites/default/files/2019-02/tutorial_matplotlib.png\">\n"
      ]
    },
    {
      "cell_type": "markdown",
      "metadata": {
        "id": "qq0T5QulRppa"
      },
      "source": [
        "Importing the library"
      ]
    },
    {
      "cell_type": "code",
      "metadata": {
        "id": "-f1tORNCPfKM"
      },
      "source": [
        "import matplotlib.pyplot as plt"
      ],
      "execution_count": null,
      "outputs": []
    },
    {
      "cell_type": "markdown",
      "metadata": {
        "id": "QkeX51AGRq6d"
      },
      "source": [
        "Create the data and the axis (x = age, y = salaries)"
      ]
    },
    {
      "cell_type": "code",
      "metadata": {
        "id": "7p9gDLr8RirG"
      },
      "source": [
        "x = [25, 26, 27, 28, 29, 30, 31, 32, 33, 34, 35]\n",
        "\n",
        "y = [38496, 42000, 46752, 49320, 53200,\n",
        "         56000, 62316, 64928, 67317, 68748, 73752]"
      ],
      "execution_count": null,
      "outputs": []
    },
    {
      "cell_type": "markdown",
      "metadata": {
        "id": "AayWu6AMR5hP"
      },
      "source": [
        "Create simple plot"
      ]
    },
    {
      "cell_type": "code",
      "metadata": {
        "colab": {
          "base_uri": "https://localhost:8080/",
          "height": 266
        },
        "id": "Sh7e0OgJRjV0",
        "outputId": "fa8a6ae1-ce9a-4242-f3ea-16f08692453b"
      },
      "source": [
        "plt.plot(x, y)\n",
        "plt.show()"
      ],
      "execution_count": null,
      "outputs": [
        {
          "output_type": "display_data",
          "data": {
            "image/png": "[encoded data removed]",
            "text/plain": [
              "<Figure size 432x288 with 1 Axes>"
            ]
          },
          "metadata": {
            "needs_background": "light"
          }
        }
      ]
    },
    {
      "cell_type": "markdown",
      "metadata": {
        "id": "jzZK1PaqSq-I"
      },
      "source": [
        "Title and labels"
      ]
    },
    {
      "cell_type": "code",
      "metadata": {
        "colab": {
          "base_uri": "https://localhost:8080/",
          "height": 295
        },
        "id": "aOjLTGIPSvPD",
        "outputId": "9822d732-3dfc-4a0f-cc52-7d44908dc002"
      },
      "source": [
        "plt.title('Salary by Age')\n",
        "plt.xlabel('Ages')\n",
        "plt.ylabel('Salary')\n",
        "plt.plot(x, y)\n",
        "plt.show()"
      ],
      "execution_count": null,
      "outputs": [
        {
          "output_type": "display_data",
          "data": {
            "image/png": "[encoded data removed]",
            "text/plain": [
              "<Figure size 432x288 with 1 Axes>"
            ]
          },
          "metadata": {
            "needs_background": "light"
          }
        }
      ]
    }
  ]
}
