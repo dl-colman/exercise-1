{
  "nbformat": 4,
  "nbformat_minor": 0,
  "metadata": {
    "colab": {
      "name": "Exercise_1_1_Solution.ipynb",
      "provenance": [],
      "collapsed_sections": [],
      "include_colab_link": true
    },
    "kernelspec": {
      "name": "python3",
      "display_name": "Python 3"
    },
    "language_info": {
      "name": "python"
    }
  },
  "cells": [
    {
      "cell_type": "markdown",
      "metadata": {
        "id": "view-in-github",
        "colab_type": "text"
      },
      "source": [
        "<a href=\"https://colab.research.google.com/github/dl-colman/exercise-1/blob/main/Exercise_1_1_Solution.ipynb\" target=\"_parent\"><img src=\"https://colab.research.google.com/assets/colab-badge.svg\" alt=\"Open In Colab\"/></a>"
      ]
    },
    {
      "cell_type": "markdown",
      "metadata": {
        "id": "OwItjVIm8gJz"
      },
      "source": [
        "# Exercise 1-1 ReLU Activation"
      ]
    },
    {
      "cell_type": "markdown",
      "metadata": {
        "id": "0GIvWQMj87yL"
      },
      "source": [
        "### Pip Install the nnfs library"
      ]
    },
    {
      "cell_type": "code",
      "metadata": {
        "colab": {
          "base_uri": "https://localhost:8080/"
        },
        "id": "QaKPP8Eh80K7",
        "outputId": "77255d05-af78-4023-8bda-0a034886a01b"
      },
      "source": [
        "!pip install nnfs"
      ],
      "execution_count": 1,
      "outputs": [
        {
          "output_type": "stream",
          "name": "stdout",
          "text": [
            "Collecting nnfs\n",
            "  Downloading nnfs-0.5.1-py3-none-any.whl (9.1 kB)\n",
            "Requirement already satisfied: numpy in /usr/local/lib/python3.7/dist-packages (from nnfs) (1.19.5)\n",
            "Installing collected packages: nnfs\n",
            "Successfully installed nnfs-0.5.1\n"
          ]
        }
      ]
    },
    {
      "cell_type": "markdown",
      "metadata": {
        "id": "OHriw73f9UD2"
      },
      "source": [
        "### Import libraries"
      ]
    },
    {
      "cell_type": "code",
      "metadata": {
        "id": "XN1HEe838Ztp"
      },
      "source": [
        "import numpy as np \n",
        "import nnfs\n",
        "from nnfs.datasets import spiral_data\n",
        "nnfs.init()"
      ],
      "execution_count": 2,
      "outputs": []
    },
    {
      "cell_type": "markdown",
      "metadata": {
        "id": "R_2yNusS-Czc"
      },
      "source": [
        "### Create Dataset"
      ]
    },
    {
      "cell_type": "code",
      "metadata": {
        "id": "G6wBBFVF97Yz"
      },
      "source": [
        "X, y = spiral_data(100, 3) "
      ],
      "execution_count": 12,
      "outputs": []
    },
    {
      "cell_type": "markdown",
      "metadata": {
        "id": "89ndMw1U-H89"
      },
      "source": [
        "### Dense Layer"
      ]
    },
    {
      "cell_type": "code",
      "metadata": {
        "id": "foZQlyTP-NMh"
      },
      "source": [
        "class Layer_Dense:\n",
        "    def __init__(self, n_inputs, n_neurons):\n",
        "        self.weights = 0.10 * np.random.randn(n_inputs, n_neurons)\n",
        "        self.biases = np.zeros((1, n_neurons))\n",
        "    def forward(self, inputs):\n",
        "        self.output = np.dot(inputs, self.weights) + self.biases"
      ],
      "execution_count": null,
      "outputs": []
    },
    {
      "cell_type": "markdown",
      "metadata": {
        "id": "ZMKO5nmJ-Sj9"
      },
      "source": [
        "# Complete The Rectifier Linear Class"
      ]
    },
    {
      "cell_type": "code",
      "metadata": {
        "id": "9WJLy7p_95fd"
      },
      "source": [
        "class Activation_ReLU:\n",
        "    def forward(self, inputs):\n",
        "        self.output = np.maximum(0, inputs)"
      ],
      "execution_count": 7,
      "outputs": []
    },
    {
      "cell_type": "markdown",
      "metadata": {
        "id": "Isoma0rH-ycl"
      },
      "source": [
        "Test Your Code"
      ]
    },
    {
      "cell_type": "code",
      "metadata": {
        "colab": {
          "base_uri": "https://localhost:8080/"
        },
        "id": "Qdqx5dmc-wqO",
        "outputId": "0a51e464-7821-4c4e-a340-ffd39853c414"
      },
      "source": [
        "layer1 = Layer_Dense(2,5)\n",
        "\n",
        "layer1.forward(X)\n",
        "\n",
        "activation1 = Activation_ReLU()\n",
        "\n",
        "#print(layer1.output)\n",
        "activation1.forward(layer1.output)\n",
        "print(activation1.output)"
      ],
      "execution_count": null,
      "outputs": [
        {
          "output_type": "stream",
          "name": "stdout",
          "text": [
            "[[0.00000000e+00 0.00000000e+00 0.00000000e+00 0.00000000e+00\n",
            "  0.00000000e+00]\n",
            " [0.00000000e+00 0.00000000e+00 0.00000000e+00 4.65504505e-04\n",
            "  4.56846210e-05]\n",
            " [0.00000000e+00 5.93469958e-05 0.00000000e+00 2.03573116e-04\n",
            "  6.10024377e-04]\n",
            " ...\n",
            " [1.13291524e-01 0.00000000e+00 0.00000000e+00 8.11079666e-02\n",
            "  0.00000000e+00]\n",
            " [1.34588361e-01 0.00000000e+00 3.09493970e-02 5.66337556e-02\n",
            "  0.00000000e+00]\n",
            " [1.07817926e-01 0.00000000e+00 0.00000000e+00 8.72561932e-02\n",
            "  0.00000000e+00]]\n"
          ]
        }
      ]
    }
  ]
}