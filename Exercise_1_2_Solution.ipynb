{
  "nbformat": 4,
  "nbformat_minor": 0,
  "metadata": {
    "colab": {
      "name": "Exercise_1_2_Solution.ipynb",
      "provenance": [],
      "collapsed_sections": [],
      "include_colab_link": true
    },
    "kernelspec": {
      "name": "python3",
      "display_name": "Python 3"
    },
    "language_info": {
      "name": "python"
    }
  },
  "cells": [
    {
      "cell_type": "markdown",
      "metadata": {
        "id": "view-in-github",
        "colab_type": "text"
      },
      "source": [
        "<a href=\"https://colab.research.google.com/github/dl-colman/exercise-1/blob/main/Exercise_1_2_Solution.ipynb\" target=\"_parent\"><img src=\"https://colab.research.google.com/assets/colab-badge.svg\" alt=\"Open In Colab\"/></a>"
      ]
    },
    {
      "cell_type": "markdown",
      "metadata": {
        "id": "OwItjVIm8gJz"
      },
      "source": [
        "# Exercise 1-2 Softmax Activation"
      ]
    },
    {
      "cell_type": "markdown",
      "metadata": {
        "id": "0GIvWQMj87yL"
      },
      "source": [
        "### Pip Install the nnfs library"
      ]
    },
    {
      "cell_type": "code",
      "metadata": {
        "colab": {
          "base_uri": "https://localhost:8080/"
        },
        "id": "QaKPP8Eh80K7",
        "outputId": "8605bccf-db5e-4750-98a2-9776f3982385"
      },
      "source": [
        "!pip install nnfs"
      ],
      "execution_count": 1,
      "outputs": [
        {
          "output_type": "stream",
          "name": "stdout",
          "text": [
            "Collecting nnfs\n",
            "  Downloading nnfs-0.5.1-py3-none-any.whl (9.1 kB)\n",
            "Requirement already satisfied: numpy in /usr/local/lib/python3.7/dist-packages (from nnfs) (1.19.5)\n",
            "Installing collected packages: nnfs\n",
            "Successfully installed nnfs-0.5.1\n"
          ]
        }
      ]
    },
    {
      "cell_type": "markdown",
      "metadata": {
        "id": "OHriw73f9UD2"
      },
      "source": [
        "### Import libraries"
      ]
    },
    {
      "cell_type": "code",
      "metadata": {
        "id": "XN1HEe838Ztp"
      },
      "source": [
        "import numpy as np \n",
        "import nnfs\n",
        "from nnfs.datasets import spiral_data\n",
        "nnfs.init()"
      ],
      "execution_count": 2,
      "outputs": []
    },
    {
      "cell_type": "markdown",
      "metadata": {
        "id": "R_2yNusS-Czc"
      },
      "source": [
        "### Create Dataset"
      ]
    },
    {
      "cell_type": "code",
      "metadata": {
        "id": "G6wBBFVF97Yz"
      },
      "source": [
        "X, y = spiral_data(100, 3)   "
      ],
      "execution_count": 3,
      "outputs": []
    },
    {
      "cell_type": "markdown",
      "metadata": {
        "id": "gh5SbcvzV__F"
      },
      "source": [
        "<img width=\"450px\" src=\"https://www.annytab.com/wp-content/uploads/2019/12/spirals.png\">"
      ]
    },
    {
      "cell_type": "markdown",
      "metadata": {
        "id": "89ndMw1U-H89"
      },
      "source": [
        "### Dense Layer"
      ]
    },
    {
      "cell_type": "code",
      "metadata": {
        "id": "foZQlyTP-NMh"
      },
      "source": [
        "class Layer_Dense:\n",
        "    def __init__(self, n_inputs, n_neurons):\n",
        "        self.weights = 0.10 * np.random.randn(n_inputs, n_neurons)\n",
        "        self.biases = np.zeros((1, n_neurons))\n",
        "    def forward(self, inputs):\n",
        "        self.output = np.dot(inputs, self.weights) + self.biases"
      ],
      "execution_count": 8,
      "outputs": []
    },
    {
      "cell_type": "markdown",
      "metadata": {
        "id": "ZMKO5nmJ-Sj9"
      },
      "source": [
        "### Rectifier Linear (ReLU) Class"
      ]
    },
    {
      "cell_type": "code",
      "metadata": {
        "id": "9WJLy7p_95fd"
      },
      "source": [
        "class Activation_ReLU:\n",
        "    def forward(self, inputs):\n",
        "        self.output = np.maximum(0, inputs)"
      ],
      "execution_count": 6,
      "outputs": []
    },
    {
      "cell_type": "markdown",
      "metadata": {
        "id": "Amj1sBjHUjcl"
      },
      "source": [
        "# Complete The Softmax Class\n",
        "<img src=\"https://icecube-eu-303.icedrive.io/download?p=Ga83uYEY8zeaz.NZODP0cGE9qU5hCb1S8axWYqVx_2f5JxR01IWMQy22sJkUJClxbqxkUZEacg7EY1ASnG_NjyASR_euvGcqp8XEcVHXfRfcSwcAlFwJWPLm_DXfJu7xrr9kNCAr.oBx9nQAbTrT0f92wlRD2CaqO.wEfOoYNMU00afRqsvGmsPpyFGstkW8\">"
      ]
    },
    {
      "cell_type": "code",
      "metadata": {
        "id": "ewvkjCeyUtKY"
      },
      "source": [
        "class Activation_Softmax:\n",
        "  \"\"\" Use us! np.exp(); np.sum() \n",
        "  Do not forget to add to np.sum() \n",
        "      axis=1, keepdims=True\"\"\"\n",
        "  def forward(self, inputs):\n",
        "    safe_inputs = inputs - np.max(inputs, axis=1, keepdims=True)\n",
        "    exp_values = np.exp(safe_inputs)\n",
        "    probabilities = exp_values / np.sum(exp_values, axis=1, keepdims=True)\n",
        "    self.output = probabilities"
      ],
      "execution_count": 4,
      "outputs": []
    },
    {
      "cell_type": "markdown",
      "metadata": {
        "id": "Isoma0rH-ycl"
      },
      "source": [
        "Test Your Code"
      ]
    },
    {
      "cell_type": "code",
      "metadata": {
        "colab": {
          "base_uri": "https://localhost:8080/"
        },
        "id": "Qdqx5dmc-wqO",
        "outputId": "0e89d3b1-e3c1-4bc7-b2ac-5c0bfb7118b0"
      },
      "source": [
        "dense1 = Layer_Dense(2,3)\n",
        "activation1 = Activation_ReLU()\n",
        "\n",
        "dense2 = Layer_Dense(3, 3)\n",
        "activation2 = Activation_Softmax()\n",
        "\n",
        "dense1.forward(X)\n",
        "activation1.forward(dense1.output)\n",
        "\n",
        "dense2.forward(activation1.output)\n",
        "activation2.forward(dense2.output)\n",
        "\n",
        "print(activation2.output[:5])"
      ],
      "execution_count": 9,
      "outputs": [
        {
          "output_type": "stream",
          "name": "stdout",
          "text": [
            "[[0.33333334 0.33333334 0.33333334]\n",
            " [0.33331734 0.3333183  0.33336434]\n",
            " [0.3332888  0.33329153 0.33341965]\n",
            " [0.33325943 0.33326396 0.33347666]\n",
            " [0.33323312 0.33323926 0.33352762]]\n"
          ]
        }
      ]
    }
  ]
}