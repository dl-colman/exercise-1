{
  "nbformat": 4,
  "nbformat_minor": 0,
  "metadata": {
    "colab": {
      "name": "Exercise 1-2.ipynb",
      "provenance": [],
      "collapsed_sections": [],
      "authorship_tag": "ABX9TyMnpHoXPY609pbVxIEoEZAP",
      "include_colab_link": true
    },
    "kernelspec": {
      "name": "python3",
      "display_name": "Python 3"
    },
    "language_info": {
      "name": "python"
    }
  },
  "cells": [
    {
      "cell_type": "markdown",
      "metadata": {
        "id": "view-in-github",
        "colab_type": "text"
      },
      "source": [
        "<a href=\"https://colab.research.google.com/github/dl-colman/exercise-1/blob/main/Exercise_1_2.ipynb\" target=\"_parent\"><img src=\"https://colab.research.google.com/assets/colab-badge.svg\" alt=\"Open In Colab\"/></a>"
      ]
    },
    {
      "cell_type": "markdown",
      "metadata": {
        "id": "OwItjVIm8gJz"
      },
      "source": [
        "# Exercise 1-2 Softmax Activation"
      ]
    },
    {
      "cell_type": "markdown",
      "metadata": {
        "id": "0GIvWQMj87yL"
      },
      "source": [
        "### Pip Install the nnfs library"
      ]
    },
    {
      "cell_type": "code",
      "metadata": {
        "colab": {
          "base_uri": "https://localhost:8080/"
        },
        "id": "QaKPP8Eh80K7",
        "outputId": "b3c8000a-c638-4575-aa04-adb34f75c996"
      },
      "source": [
        "!pip install nnfs"
      ],
      "execution_count": 1,
      "outputs": [
        {
          "output_type": "stream",
          "name": "stdout",
          "text": [
            "Collecting nnfs\n",
            "  Downloading nnfs-0.5.1-py3-none-any.whl (9.1 kB)\n",
            "Requirement already satisfied: numpy in /usr/local/lib/python3.7/dist-packages (from nnfs) (1.19.5)\n",
            "Installing collected packages: nnfs\n",
            "Successfully installed nnfs-0.5.1\n"
          ]
        }
      ]
    },
    {
      "cell_type": "markdown",
      "metadata": {
        "id": "OHriw73f9UD2"
      },
      "source": [
        "### Import libraries"
      ]
    },
    {
      "cell_type": "code",
      "metadata": {
        "id": "XN1HEe838Ztp"
      },
      "source": [
        "import numpy as np \n",
        "import nnfs\n",
        "from nnfs.datasets import spiral_data\n",
        "nnfs.init()"
      ],
      "execution_count": 2,
      "outputs": []
    },
    {
      "cell_type": "markdown",
      "metadata": {
        "id": "R_2yNusS-Czc"
      },
      "source": [
        "### Create Dataset"
      ]
    },
    {
      "cell_type": "code",
      "metadata": {
        "id": "G6wBBFVF97Yz"
      },
      "source": [
        "X, y = spiral_data(100, 3)   "
      ],
      "execution_count": 3,
      "outputs": []
    },
    {
      "cell_type": "markdown",
      "metadata": {
        "id": "gh5SbcvzV__F"
      },
      "source": [
        "<img width=\"450px\" src=\"https://www.annytab.com/wp-content/uploads/2019/12/spirals.png\">"
      ]
    },
    {
      "cell_type": "markdown",
      "metadata": {
        "id": "89ndMw1U-H89"
      },
      "source": [
        "### Dense Layer"
      ]
    },
    {
      "cell_type": "code",
      "metadata": {
        "id": "foZQlyTP-NMh"
      },
      "source": [
        "class Layer_Dense:\n",
        "    def __init__(self, n_inputs, n_neurons):\n",
        "        self.weights = 0.10 * np.random.randn(n_inputs, n_neurons)\n",
        "        self.biases = np.zeros((1, n_neurons))\n",
        "    def forward(self, inputs):\n",
        "        self.output = np.dot(inputs, self.weights) + self.biases"
      ],
      "execution_count": 4,
      "outputs": []
    },
    {
      "cell_type": "markdown",
      "metadata": {
        "id": "ZMKO5nmJ-Sj9"
      },
      "source": [
        "### Rectifier Linear (ReLU) Class"
      ]
    },
    {
      "cell_type": "code",
      "metadata": {
        "id": "9WJLy7p_95fd"
      },
      "source": [
        "class Activation_ReLU:\n",
        "    def forward(self, inputs):\n",
        "        self.output = np.maximum(0, inputs)"
      ],
      "execution_count": 6,
      "outputs": []
    },
    {
      "cell_type": "markdown",
      "metadata": {
        "id": "Amj1sBjHUjcl"
      },
      "source": [
        "# Complete The Softmax Class\n",
        "<img src=\"https://icecube-eu-303.icedrive.io/download?p=Ga83uYEY8zeaz.NZODP0cGE9qU5hCb1S8axWYqVx_2f5JxR01IWMQy22sJkUJClxbqxkUZEacg7EY1ASnG_NjyASR_euvGcqp8XEcVHXfRfcSwcAlFwJWPLm_DXfJu7xrr9kNCAr.oBx9nQAbTrT0f92wlRD2CaqO.wEfOoYNMU00afRqsvGmsPpyFGstkW8\">"
      ]
    },
    {
      "cell_type": "code",
      "metadata": {
        "id": "ewvkjCeyUtKY"
      },
      "source": [
        "class Activation_Softmax:\n",
        "  \"\"\" Use us! np.exp(); np.sum() \n",
        "  Do not forget to add to np.sum() \n",
        "      axis=1, keepdims=True\"\"\"\n",
        "  def forward(self, inputs):\n",
        "    safe_inputs = inputs - np.max(inputs, axis=1, keepdims=True)\n",
        "    exp_values = # *** YOUR CODE HERE ***\n",
        "    probabilities = # *** YOUR CODE HERE ***\n",
        "    # *** YOUR CODE HERE ***"
      ],
      "execution_count": 17,
      "outputs": []
    },
    {
      "cell_type": "markdown",
      "metadata": {
        "id": "Isoma0rH-ycl"
      },
      "source": [
        "Test Your Code"
      ]
    },
    {
      "cell_type": "code",
      "metadata": {
        "colab": {
          "base_uri": "https://localhost:8080/"
        },
        "id": "Qdqx5dmc-wqO",
        "outputId": "7b5c4a3d-d1d6-42f4-e2b2-a39783729f3a"
      },
      "source": [
        "dense1 = Layer_Dense(2,3)\n",
        "activation1 = Activation_ReLU()\n",
        "\n",
        "dense2 = Layer_Dense(3, 3)\n",
        "activation2 = Activation_Softmax()\n",
        "\n",
        "dense1.forward(X)\n",
        "activation1.forward(dense1.output)\n",
        "\n",
        "dense2.forward(activation1.output)\n",
        "activation2.forward(dense2.output)\n",
        "\n",
        "print(activation2.output[:5])"
      ],
      "execution_count": 18,
      "outputs": [
        {
          "output_type": "stream",
          "name": "stdout",
          "text": [
            "[[0.33333334 0.33333334 0.33333334]\n",
            " [0.33333588 0.33332154 0.33334258]\n",
            " [0.33333936 0.33330533 0.3333553 ]\n",
            " [0.33327898 0.33335957 0.33336148]\n",
            " [0.33327773 0.33334932 0.33337292]]\n"
          ]
        }
      ]
    }
  ]
}