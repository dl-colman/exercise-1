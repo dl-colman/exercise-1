{
  "nbformat": 4,
  "nbformat_minor": 0,
  "metadata": {
    "colab": {
      "provenance": [],
      "collapsed_sections": [],
      "toc_visible": true
    },
    "kernelspec": {
      "name": "python3",
      "display_name": "Python 3"
    },
    "language_info": {
      "name": "python"
    }
  },
  "cells": [
    {
      "cell_type": "markdown",
      "source": [
        "# XOR Exercise\n",
        "| x1      | x2 | Label |\n",
        "| ----------- | ----------- | ----------- |\n",
        "| 0      | 0       | 0       |\n",
        "| 0   | 1        |1         |\n",
        "| 1      | 0       | 1       |\n",
        "| 1   | 1        |1         |\n",
        "\n",
        "<br><br>\n",
        "This exercise was inspired by the following article:<br>[Neural Network Implementation for XOR Gate Using Numpy](https://medium.com/analytics-vidhya/neural-network-implementation-for-xor-gate-using-numpy-59eca77b54cc)"
      ],
      "metadata": {
        "id": "aFWDeRpiibEk"
      }
    },
    {
      "cell_type": "markdown",
      "source": [
        "## Import Libraries"
      ],
      "metadata": {
        "id": "sotsOXw5jrx9"
      }
    },
    {
      "cell_type": "code",
      "source": [
        "import numpy as np\n",
        "import matplotlib.pyplot as plt\n",
        "from sklearn.metrics import confusion_matrix, accuracy_score, ConfusionMatrixDisplay"
      ],
      "metadata": {
        "id": "STz9YXEiHTch"
      },
      "execution_count": 1,
      "outputs": []
    },
    {
      "cell_type": "markdown",
      "source": [
        "## Create Dataset"
      ],
      "metadata": {
        "id": "eGcNHDVFjzmd"
      }
    },
    {
      "cell_type": "code",
      "source": [
        "X=np.vstack(([0,0],[0,1],[1,0],[1,1]))\n",
        "t=np.array([0,1,1,0]).reshape(-1,1)\n",
        "print(f'Train Features  : \\n{X}\\n\\nLabels: \\n{t}')"
      ],
      "metadata": {
        "colab": {
          "base_uri": "https://localhost:8080/"
        },
        "id": "8nIoTV8dHXK2",
        "outputId": "ef510ed9-759c-4aca-c3bd-1e555c0e758e"
      },
      "execution_count": 2,
      "outputs": [
        {
          "output_type": "stream",
          "name": "stdout",
          "text": [
            "Train Features  : \n",
            "[[0 0]\n",
            " [0 1]\n",
            " [1 0]\n",
            " [1 1]]\n",
            "\n",
            "Labels: \n",
            "[[0]\n",
            " [1]\n",
            " [1]\n",
            " [0]]\n"
          ]
        }
      ]
    },
    {
      "cell_type": "markdown",
      "source": [
        "## Activation Function"
      ],
      "metadata": {
        "id": "SPBZGDOGj8-w"
      }
    },
    {
      "cell_type": "code",
      "source": [
        "def sigmoid(x):\n",
        "  return (1/(1+np.exp(-x)))"
      ],
      "metadata": {
        "id": "X6Qs4j4mHgFA"
      },
      "execution_count": 3,
      "outputs": []
    },
    {
      "cell_type": "markdown",
      "source": [
        "## Loss Function"
      ],
      "metadata": {
        "id": "03ibzhUBkD_s"
      }
    },
    {
      "cell_type": "code",
      "source": [
        "def mean_squared_error(y, t):\n",
        "  return (1/4*np.sum((y-t)**2))"
      ],
      "metadata": {
        "id": "IoZ6XBjHKxee"
      },
      "execution_count": 4,
      "outputs": []
    },
    {
      "cell_type": "markdown",
      "source": [
        "## Hyper Parameters"
      ],
      "metadata": {
        "id": "q5jaS2WwkbVm"
      }
    },
    {
      "cell_type": "code",
      "source": [
        "alpha=0.1\n",
        "epochs = 10000\n",
        "loss_list, epochs_list=[],[]"
      ],
      "metadata": {
        "id": "esvR_zwjknww"
      },
      "execution_count": 5,
      "outputs": []
    },
    {
      "cell_type": "markdown",
      "source": [
        "## Weights Initialization"
      ],
      "metadata": {
        "id": "wp0eycTokS1s"
      }
    },
    {
      "cell_type": "code",
      "source": [
        "W1=np.random.rand(2,16)\n",
        "W2=np.random.rand(16,1)\n",
        "print(W1.shape,'\\n',W2.shape)"
      ],
      "metadata": {
        "colab": {
          "base_uri": "https://localhost:8080/"
        },
        "id": "4gYszYlHHaDl",
        "outputId": "ec0f439c-2034-4eba-8d29-960c6706972c"
      },
      "execution_count": 6,
      "outputs": [
        {
          "output_type": "stream",
          "name": "stdout",
          "text": [
            "(2, 16) \n",
            " (16, 1)\n"
          ]
        }
      ]
    },
    {
      "cell_type": "markdown",
      "source": [
        "## Train NN"
      ],
      "metadata": {
        "id": "oOF2TcpjlM8G"
      }
    },
    {
      "cell_type": "code",
      "execution_count": 7,
      "metadata": {
        "id": "RoV3bhoEEorl"
      },
      "outputs": [],
      "source": [
        "for i in range(epochs):\n",
        "\n",
        "  # TODO :  Forward propagation  \n",
        "  z=sigmoid(np.dot(X,W1))\n",
        "  y=sigmoid(np.dot(z,W2))\n",
        "\n",
        "  # TODO: Compute loss\n",
        "  loss=mean_squared_error(y, t)\n",
        "\n",
        "  # TODO: Back propagation\n",
        "  dz = (y-t)\n",
        "  dz = dz*y*(1-y)\n",
        "  dW2 = 2*(np.dot(y.T,dz))\n",
        "  dW1 = 2*np.dot(X.T,np.dot(dz,W2.T)*z*(1-z))\n",
        "\n",
        "  # TODO: Update weights\n",
        "  W2=W2-alpha*dW2\n",
        "  W1=W1-alpha*dW1\n",
        "\n",
        "  loss_list.append(loss)\n",
        "  epochs_list.append(i)"
      ]
    },
    {
      "cell_type": "markdown",
      "source": [
        "## Loss Visualization"
      ],
      "metadata": {
        "id": "Iv3gvvf9lVe3"
      }
    },
    {
      "cell_type": "code",
      "source": [
        "plt.title('Loss')\n",
        "plt.xlabel(\"Epochs\")\n",
        "plt.ylabel(\"loss\")\n",
        "\n",
        "plt.plot(epochs_list,loss_list)\n",
        "plt.show()"
      ],
      "metadata": {
        "colab": {
          "base_uri": "https://localhost:8080/",
          "height": 295
        },
        "id": "C4WJrV6BF7mf",
        "outputId": "08f0a03a-82e9-44b8-9537-c88c4cda6628"
      },
      "execution_count": 8,
      "outputs": [
        {
          "output_type": "display_data",
          "data": {
            "text/plain": [
              "<Figure size 432x288 with 1 Axes>"
            ],
            "image/png": "[encoded data removed]"
          },
          "metadata": {
            "needs_background": "light"
          }
        }
      ]
    },
    {
      "cell_type": "markdown",
      "source": [
        "## Test model performance\n",
        "We will impliment the \"Forward\" with the trained weights."
      ],
      "metadata": {
        "id": "A4vsep3ileaT"
      }
    },
    {
      "cell_type": "code",
      "source": [
        "X_test=np.vstack(([0,0],[0,1],[1,0],[1,1]))\n",
        "y_test=np.array([0,1,1,0])\n",
        "\n",
        "# TODO :  Forward propagation  \n",
        "z_test = sigmoid(np.dot(X_test,W1))\n",
        "y_pred = sigmoid(np.dot(z_test,W2))\n",
        "print(y_pred.T)"
      ],
      "metadata": {
        "colab": {
          "base_uri": "https://localhost:8080/"
        },
        "id": "mZrLHbSkZCQR",
        "outputId": "c7b8506c-9f97-468f-f32c-06c5ddc17b1a"
      },
      "execution_count": 9,
      "outputs": [
        {
          "output_type": "stream",
          "name": "stdout",
          "text": [
            "[[0.47118804 0.65386042 0.58494957 0.4692767 ]]\n"
          ]
        }
      ]
    },
    {
      "cell_type": "markdown",
      "source": [
        "### Check your predictions against the test's labels"
      ],
      "metadata": {
        "id": "zvfdnSGdL5O6"
      }
    },
    {
      "cell_type": "code",
      "source": [
        "predictions = np.zeros((1,y_test.shape[0]))\n",
        "\n",
        "for i in range(y_test.shape[0]):\n",
        "  if (y_pred[i][0] > 0.5): \n",
        "    predictions[0][i] = 1\n",
        "print(f'Our predictions{predictions}\\nLabls:{y_test}')"
      ],
      "metadata": {
        "colab": {
          "base_uri": "https://localhost:8080/"
        },
        "id": "vzqHq8iVaIcv",
        "outputId": "544cbe91-1e36-43d1-cea1-61b4053b0608"
      },
      "execution_count": 10,
      "outputs": [
        {
          "output_type": "stream",
          "name": "stdout",
          "text": [
            "Our predictions[[0. 1. 1. 0.]]\n",
            "Labls:[0 1 1 0]\n"
          ]
        }
      ]
    },
    {
      "cell_type": "markdown",
      "source": [
        "### Show Classification Evaluation Metrics"
      ],
      "metadata": {
        "id": "3VUy9b-rK3s7"
      }
    },
    {
      "cell_type": "code",
      "source": [
        "cm = confusion_matrix(predictions.T, y_test.T)\n",
        "print('Accuracy Score : ', accuracy_score(predictions.T, y_test.T))\n",
        "print('Confusion Matrix : \\n', cm)"
      ],
      "metadata": {
        "colab": {
          "base_uri": "https://localhost:8080/"
        },
        "id": "NppaTLrmeQFZ",
        "outputId": "29b02cc8-29d6-426f-cf46-ea1399eaa487"
      },
      "execution_count": 11,
      "outputs": [
        {
          "output_type": "stream",
          "name": "stdout",
          "text": [
            "Accuracy Score :  1.0\n",
            "Confusion Matrix : \n",
            " [[2 0]\n",
            " [0 2]]\n"
          ]
        }
      ]
    },
    {
      "cell_type": "code",
      "source": [
        "ConfusionMatrixDisplay(cm, display_labels=[\"2\", \"5\"]).plot()"
      ],
      "metadata": {
        "colab": {
          "base_uri": "https://localhost:8080/",
          "height": 301
        },
        "id": "wv7nMyI1Iau2",
        "outputId": "e28ad8a8-eed1-4df2-d7cb-245ee1e27090"
      },
      "execution_count": 12,
      "outputs": [
        {
          "output_type": "execute_result",
          "data": {
            "text/plain": [
              "<sklearn.metrics._plot.confusion_matrix.ConfusionMatrixDisplay at 0x7fa44a449bd0>"
            ]
          },
          "metadata": {},
          "execution_count": 12
        },
        {
          "output_type": "display_data",
          "data": {
            "text/plain": [
              "<Figure size 432x288 with 2 Axes>"
            ],
            "image/png": "[encoded data removed]"
          },
          "metadata": {
            "needs_background": "light"
          }
        }
      ]
    }
  ]
}