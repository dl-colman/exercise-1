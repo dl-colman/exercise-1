{
  "nbformat": 4,
  "nbformat_minor": 0,
  "metadata": {
    "colab": {
      "provenance": []
    },
    "kernelspec": {
      "name": "python3",
      "display_name": "Python 3"
    },
    "language_info": {
      "name": "python"
    }
  },
  "cells": [
    {
      "cell_type": "markdown",
      "source": [
        "# XOR Exercise\n",
        "| x1      | x2 | Label |\n",
        "| ----------- | ----------- | ----------- |\n",
        "| 0      | 0       | 0       |\n",
        "| 0   | 1        |1         |\n",
        "| 1      | 0       | 1       |\n",
        "| 1   | 1        |0         |\n",
        "\n",
        "<br><br>\n",
        "This exercise was inspired by the following article:<br>[Neural Network Implementation for XOR Gate Using Numpy](https://medium.com/analytics-vidhya/neural-network-implementation-for-xor-gate-using-numpy-59eca77b54cc)"
      ],
      "metadata": {
        "id": "aFWDeRpiibEk"
      }
    },
    {
      "cell_type": "markdown",
      "source": [
        "## Import Libraries"
      ],
      "metadata": {
        "id": "sotsOXw5jrx9"
      }
    },
    {
      "cell_type": "code",
      "source": [
        "import numpy as np\n",
        "import matplotlib.pyplot as plt\n",
        "from sklearn.metrics import confusion_matrix, accuracy_score, ConfusionMatrixDisplay"
      ],
      "metadata": {
        "id": "STz9YXEiHTch"
      },
      "execution_count": 13,
      "outputs": []
    },
    {
      "cell_type": "markdown",
      "source": [
        "## Create Dataset"
      ],
      "metadata": {
        "id": "eGcNHDVFjzmd"
      }
    },
    {
      "cell_type": "code",
      "source": [
        "X=np.vstack(([0,0],[0,1],[1,0],[1,1]))\n",
        "t=np.array([0,1,1,0]).reshape(-1,1)\n",
        "print(f'Train Features  : \\n{X}\\n\\nLabels: \\n{t}')"
      ],
      "metadata": {
        "colab": {
          "base_uri": "https://localhost:8080/"
        },
        "id": "8nIoTV8dHXK2",
        "outputId": "faeafa45-8822-4f99-e66a-0748e9063418"
      },
      "execution_count": 14,
      "outputs": [
        {
          "output_type": "stream",
          "name": "stdout",
          "text": [
            "Train Features  : \n",
            "[[0 0]\n",
            " [0 1]\n",
            " [1 0]\n",
            " [1 1]]\n",
            "\n",
            "Labels: \n",
            "[[0]\n",
            " [1]\n",
            " [1]\n",
            " [0]]\n"
          ]
        }
      ]
    },
    {
      "cell_type": "markdown",
      "source": [
        "## Activation Function\n",
        "Sigmoid: \n",
        "\n",
        "<img src=\"https://miro.medium.com/max/884/1*h2mKSbkSqRmYi9OhHyWpKA@2x.png\" alt=\"Sigmoid\" width=\"250\" >\n",
        "\n",
        "Sigmoid derivative:\n",
        "\n",
        "<img src=\"https://miro.medium.com/max/1058/1*SLri0VBaH3IeD8KOMbA3kQ.png\" alt=\"Sigmoid derivative\" width=\"400\" >"
      ],
      "metadata": {
        "id": "SPBZGDOGj8-w"
      }
    },
    {
      "cell_type": "code",
      "source": [
        "def sigmoid(x):\n",
        "  return (1/(1+np.exp(-x)))"
      ],
      "metadata": {
        "id": "X6Qs4j4mHgFA"
      },
      "execution_count": 15,
      "outputs": []
    },
    {
      "cell_type": "markdown",
      "source": [
        "## Loss Function\n",
        "\n",
        "<img src=\"https://miro.medium.com/max/1198/1*BtVajQNj29LkVySEWR_4ww.png\" alt=\"mean squared error\" width=\"500\" >\n"
      ],
      "metadata": {
        "id": "03ibzhUBkD_s"
      }
    },
    {
      "cell_type": "code",
      "source": [
        "def mean_squared_error(y, t):\n",
        "  n = y.shape[0]\n",
        "  return (1/n*np.sum((y-t)**2))"
      ],
      "metadata": {
        "id": "IoZ6XBjHKxee"
      },
      "execution_count": 16,
      "outputs": []
    },
    {
      "cell_type": "markdown",
      "source": [
        "## Hyper Parameters"
      ],
      "metadata": {
        "id": "q5jaS2WwkbVm"
      }
    },
    {
      "cell_type": "code",
      "source": [
        "alpha=0.01\n",
        "epochs = 3000\n",
        "loss_list, epochs_list=[],[]"
      ],
      "metadata": {
        "id": "esvR_zwjknww"
      },
      "execution_count": 17,
      "outputs": []
    },
    {
      "cell_type": "markdown",
      "source": [
        "## Weights Initialization"
      ],
      "metadata": {
        "id": "wp0eycTokS1s"
      }
    },
    {
      "cell_type": "code",
      "source": [
        "W1=np.random.rand(2,16)\n",
        "b1 = np.zeros((1, 16))\n",
        "W2=np.random.rand(16,1)\n",
        "b2 = np.zeros((1, 1))\n",
        "print(W1.shape,'\\n',W2.shape)"
      ],
      "metadata": {
        "colab": {
          "base_uri": "https://localhost:8080/"
        },
        "id": "4gYszYlHHaDl",
        "outputId": "b3c0a6e9-2a32-47d2-ed31-c2118cac04b5"
      },
      "execution_count": 18,
      "outputs": [
        {
          "output_type": "stream",
          "name": "stdout",
          "text": [
            "(2, 16) \n",
            " (16, 1)\n"
          ]
        }
      ]
    },
    {
      "cell_type": "markdown",
      "source": [
        "## Train NN\n",
        "\n",
        "<u>**Feed Forward Equations**</u>:\n",
        "<br><br>\n",
        "<img src=\"https://miro.medium.com/max/884/1*YB9_AfIT0uI1GmlYmMVYOw.png\" alt=\"Feed Forward Equations\" width=\"400\" >\n",
        "<br><br>\n",
        "<u>**Backpropagation Equations**</u>\n",
        "\n",
        "**W2**:\n",
        "\n",
        "<br>\n",
        "<img src=\"https://miro.medium.com/max/1184/1*rMeNhANWQ0KzuuK2rfJg4g.png\" alt=\"W2 - Backpropagation\" width=\"500\" >\n",
        "\n",
        "**W1**:\n",
        "\n",
        "<br>\n",
        "\n",
        "\n",
        "<img src=\"https://miro.medium.com/max/1400/1*i5QGDK5urJJLxVaJHDH3Fw.png\" alt=\"W1 - Backpropagation\" width=\"600\" >\n",
        "\n"
      ],
      "metadata": {
        "id": "oOF2TcpjlM8G"
      }
    },
    {
      "cell_type": "code",
      "execution_count": 19,
      "metadata": {
        "id": "RoV3bhoEEorl",
        "colab": {
          "base_uri": "https://localhost:8080/"
        },
        "outputId": "d07e6c38-8afc-4d37-d31d-1b5d5b7783ae"
      },
      "outputs": [
        {
          "output_type": "stream",
          "name": "stdout",
          "text": [
            "epoch: 0, loss: 0.49301784398027537, Accuracy: 0.5\n",
            "epoch: 200, loss: 0.05090766268054853, Accuracy: 1.0\n",
            "epoch: 400, loss: 0.00964085017765693, Accuracy: 1.0\n",
            "epoch: 600, loss: 0.005172447568860568, Accuracy: 1.0\n",
            "epoch: 800, loss: 0.0032011283690287903, Accuracy: 1.0\n",
            "epoch: 1000, loss: 0.0021655621908215172, Accuracy: 1.0\n",
            "epoch: 1200, loss: 0.0015581018696765496, Accuracy: 1.0\n",
            "epoch: 1400, loss: 0.0011727477882171734, Accuracy: 1.0\n",
            "epoch: 1600, loss: 0.0009135740642404928, Accuracy: 1.0\n",
            "epoch: 1800, loss: 0.0007311893701793867, Accuracy: 1.0\n",
            "epoch: 2000, loss: 0.0005981258552236751, Accuracy: 1.0\n",
            "epoch: 2200, loss: 0.0004981470545862875, Accuracy: 1.0\n",
            "epoch: 2400, loss: 0.00042116828513814094, Accuracy: 1.0\n",
            "epoch: 2600, loss: 0.0003606636737605043, Accuracy: 1.0\n",
            "epoch: 2800, loss: 0.0003122620092962095, Accuracy: 1.0\n"
          ]
        }
      ],
      "source": [
        "for ep in range(epochs):\n",
        "\n",
        "  # TODO :  Forward propagation  \n",
        "  z=sigmoid(np.dot(X,W1)+ b1) \n",
        "  y=sigmoid(np.dot(z,W2)+ b2) \n",
        "\n",
        "  # TODO: Compute loss\n",
        "  loss=mean_squared_error(y, t)\n",
        "\n",
        "  # TODO: Back propagation\n",
        "  djdy = 2*(y-t)  # dj/dy | (4,1)\n",
        "  dydW2 = djdy * (y*(1-y)) # sig'(x) = sig(x)*(1-sig(x)) | (4,1)\n",
        "  dW2 = np.dot(z.T, dydW2) # dj/dW2 | (16,1)\n",
        "\n",
        "  db2 = djdy\n",
        "\n",
        "  dydz = np.dot(dydW2, W2.T) * (z*(1-z)) # dy/dz | sig'(x) = sig(x)*(1-sig(x)) | (4, 16)\n",
        "  dW1 = np.dot(X.T,dydz) # dj/dW1 | (2, 16)\n",
        "\n",
        "  db1 = dydz\n",
        "\n",
        "  # TODO: Update weights\n",
        "  W2 = W2-alpha*dW2\n",
        "  b2 = b2-alpha*db2\n",
        "  W1 = W1-alpha*dW1\n",
        "  b1 = b1-alpha*db1\n",
        "\n",
        "\n",
        "  if not ep % 200:\n",
        "    calc_accuracy = 0\n",
        "    for i in range(y.shape[0]): \n",
        "      if (y[i][0] > 0.5) == t[i][0]: calc_accuracy += 1\n",
        "    calc_accuracy /= y.shape[0]    \n",
        "    print(f'epoch: {ep}, loss: {loss}, Accuracy: {calc_accuracy}')\n",
        "\n",
        "  loss_list.append(loss)\n",
        "  epochs_list.append(ep)"
      ]
    },
    {
      "cell_type": "markdown",
      "source": [
        "## Loss Visualization"
      ],
      "metadata": {
        "id": "Iv3gvvf9lVe3"
      }
    },
    {
      "cell_type": "code",
      "source": [
        "plt.title('Loss')\n",
        "plt.xlabel(\"Epochs\")\n",
        "plt.ylabel(\"loss\")\n",
        "\n",
        "plt.plot(epochs_list,loss_list)\n",
        "plt.show()"
      ],
      "metadata": {
        "colab": {
          "base_uri": "https://localhost:8080/",
          "height": 295
        },
        "id": "C4WJrV6BF7mf",
        "outputId": "2875cc55-7c10-463d-f21b-f6985bc16b24"
      },
      "execution_count": 20,
      "outputs": [
        {
          "output_type": "display_data",
          "data": {
            "text/plain": [
              "<Figure size 432x288 with 1 Axes>"
            ],
            "image/png": "[encoded data removed]"
          },
          "metadata": {
            "needs_background": "light"
          }
        }
      ]
    },
    {
      "cell_type": "markdown",
      "source": [
        "## Test model performance\n",
        "We will implement the \"Forward\" with the trained weights."
      ],
      "metadata": {
        "id": "A4vsep3ileaT"
      }
    },
    {
      "cell_type": "code",
      "source": [
        "X_test=np.vstack(([0,0],[0,1],[1,0],[1,1]))\n",
        "y_test=np.array([0,1,1,0])\n",
        "\n",
        "# TODO :  Forward propagation  \n",
        "z_test = sigmoid(np.dot(X_test,W1)+ b1)\n",
        "y_pred = sigmoid(np.dot(z_test,W2)+ b2)\n",
        "print(y_pred.T)"
      ],
      "metadata": {
        "colab": {
          "base_uri": "https://localhost:8080/"
        },
        "id": "mZrLHbSkZCQR",
        "outputId": "3278b73a-1b6a-4927-838f-ae1cd2ae931b"
      },
      "execution_count": 21,
      "outputs": [
        {
          "output_type": "stream",
          "name": "stdout",
          "text": [
            "[[0.01647251 0.98360606 0.98349103 0.01670749]]\n"
          ]
        }
      ]
    },
    {
      "cell_type": "markdown",
      "source": [
        "### Check your predictions against the test's labels"
      ],
      "metadata": {
        "id": "zvfdnSGdL5O6"
      }
    },
    {
      "cell_type": "code",
      "source": [
        "predictions = np.zeros((1,y_test.shape[0]))\n",
        "\n",
        "for i in range(y_test.shape[0]):\n",
        "  if (y_pred[i][0] > 0.5): \n",
        "    predictions[0][i] = 1\n",
        "print(f'Our predictions{predictions}\\nLabls:{y_test}')"
      ],
      "metadata": {
        "colab": {
          "base_uri": "https://localhost:8080/"
        },
        "id": "vzqHq8iVaIcv",
        "outputId": "b1958f1b-e116-431b-f14b-a5340524ae39"
      },
      "execution_count": 22,
      "outputs": [
        {
          "output_type": "stream",
          "name": "stdout",
          "text": [
            "Our predictions[[0. 1. 1. 0.]]\n",
            "Labls:[0 1 1 0]\n"
          ]
        }
      ]
    },
    {
      "cell_type": "markdown",
      "source": [
        "### Show Classification Evaluation Metrics"
      ],
      "metadata": {
        "id": "3VUy9b-rK3s7"
      }
    },
    {
      "cell_type": "code",
      "source": [
        "cm = confusion_matrix(predictions.T, y_test.T)\n",
        "print('Accuracy Score : ', accuracy_score(predictions.T, y_test.T))\n",
        "print('Confusion Matrix : \\n', cm)"
      ],
      "metadata": {
        "colab": {
          "base_uri": "https://localhost:8080/"
        },
        "id": "NppaTLrmeQFZ",
        "outputId": "cb70e3b6-7b6b-40fc-e0f2-30ea286116a6"
      },
      "execution_count": 23,
      "outputs": [
        {
          "output_type": "stream",
          "name": "stdout",
          "text": [
            "Accuracy Score :  1.0\n",
            "Confusion Matrix : \n",
            " [[2 0]\n",
            " [0 2]]\n"
          ]
        }
      ]
    },
    {
      "cell_type": "code",
      "source": [
        "ConfusionMatrixDisplay(cm, display_labels=[\"1\", \"0\"]).plot()"
      ],
      "metadata": {
        "colab": {
          "base_uri": "https://localhost:8080/",
          "height": 301
        },
        "id": "wv7nMyI1Iau2",
        "outputId": "66daf5cc-f62a-46dd-f179-9ba71781d684"
      },
      "execution_count": 24,
      "outputs": [
        {
          "output_type": "execute_result",
          "data": {
            "text/plain": [
              "<sklearn.metrics._plot.confusion_matrix.ConfusionMatrixDisplay at 0x7fce1713ee90>"
            ]
          },
          "metadata": {},
          "execution_count": 24
        },
        {
          "output_type": "display_data",
          "data": {
            "text/plain": [
              "<Figure size 432x288 with 2 Axes>"
            ],
            "image/png": "[encoded data removed]"
          },
          "metadata": {
            "needs_background": "light"
          }
        }
      ]
    }
  ]
}