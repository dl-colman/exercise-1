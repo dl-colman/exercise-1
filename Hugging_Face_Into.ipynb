{
  "nbformat": 4,
  "nbformat_minor": 0,
  "metadata": {
    "colab": {
      "provenance": [],
      "toc_visible": true
    },
    "kernelspec": {
      "name": "python3",
      "display_name": "Python 3"
    },
    "language_info": {
      "name": "python"
    }
  },
  "cells": [
    {
      "cell_type": "markdown",
      "source": [
        "# Hugging Face 🤗\n",
        "[Huggingface Datasets](https://huggingface.co/datasets)\n",
        "\n",
        "[Huggingface Models](https://huggingface.co/datasets)\n",
        "\n",
        "[Huggingface Spaces](https://huggingface.co/datasets)\n",
        "\n",
        "[Our example](https://huggingface.co/distilbert/distilbert-base-uncased-finetuned-sst-2-english)"
      ],
      "metadata": {
        "id": "Yp8PmL_vzbUu"
      }
    },
    {
      "cell_type": "code",
      "source": [
        "!pip install transformers"
      ],
      "metadata": {
        "id": "aXSR-6mB1XJp"
      },
      "execution_count": null,
      "outputs": []
    },
    {
      "cell_type": "code",
      "source": [
        "from transformers import pipeline\n",
        "input_1 = \"Every day is an opportunity to grow, learn, and make an impact on the world!\"\n",
        "input_2 = \"Sometimes things don’t go as planned\"\n",
        "classifier = pipeline(\"sentiment-analysis\")"
      ],
      "metadata": {
        "id": "M8jyKIHu1eak"
      },
      "execution_count": null,
      "outputs": []
    },
    {
      "cell_type": "code",
      "source": [
        "classifier(input_1)"
      ],
      "metadata": {
        "id": "3yLlO0sL2YsJ"
      },
      "execution_count": null,
      "outputs": []
    },
    {
      "cell_type": "code",
      "source": [
        "classifier(input_2)"
      ],
      "metadata": {
        "id": "8idycUJR2thZ"
      },
      "execution_count": null,
      "outputs": []
    }
  ]
}